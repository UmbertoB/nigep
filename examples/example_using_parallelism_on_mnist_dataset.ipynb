{
 "cells": [
  {
   "cell_type": "markdown",
   "source": [
    "# Nigep example using MNIST dataset"
   ],
   "metadata": {
    "collapsed": false
   },
   "id": "1dfeba98a0ea18c5"
  },
  {
   "cell_type": "code",
   "execution_count": 1,
   "outputs": [
    {
     "name": "stdout",
     "output_type": "stream",
     "text": [
      "zsh:1: command not found: pip\r\n"
     ]
    }
   ],
   "source": [
    "! pip install nigep"
   ],
   "metadata": {
    "collapsed": false,
    "ExecuteTime": {
     "end_time": "2023-12-07T15:40:50.842734Z",
     "start_time": "2023-12-07T15:40:50.722994Z"
    }
   },
   "id": "d0bd3397761f90d2"
  },
  {
   "cell_type": "code",
   "execution_count": 2,
   "id": "initial_id",
   "metadata": {
    "ExecuteTime": {
     "end_time": "2023-12-07T15:40:53.826921Z",
     "start_time": "2023-12-07T15:40:50.846184Z"
    }
   },
   "outputs": [],
   "source": [
    "import os\n",
    "import sys\n",
    "module_path = os.path.abspath(os.path.join('../src/nigep/*'))\n",
    "if module_path not in sys.path:\n",
    "    sys.path.append(module_path)\n",
    "    \n",
    "from src.nigep import Nigep\n",
    "from keras.layers import Dense\n",
    "from keras.models import Sequential\n",
    "from keras.callbacks import ReduceLROnPlateau, EarlyStopping\n",
    "from keras.optimizers import AdamW\n",
    "from keras.datasets import mnist\n",
    "from keras.utils import to_categorical\n"
   ]
  },
  {
   "cell_type": "markdown",
   "source": [
    "### Load and preprocess MNIST dataset from Keras package"
   ],
   "metadata": {
    "collapsed": false
   },
   "id": "72a975e881a56640"
  },
  {
   "cell_type": "code",
   "execution_count": 3,
   "outputs": [],
   "source": [
    "(X_train, y_train), (X_test, y_test) = mnist.load_data()\n",
    "\n",
    "X_train = X_train / 255\n",
    "X_test = X_test / 255\n",
    "\n",
    "X_train = X_train.reshape(X_train.shape[0],X_train.shape[1]*X_train.shape[2])\n",
    "X_test = X_test.reshape(X_test.shape[0],X_test.shape[1]*X_test.shape[2])\n",
    "\n",
    "INPUT_DIMS = X_train.shape[1]\n",
    "OUTPUT_DIMS = 10\n",
    "\n",
    "y_train_one_hot = to_categorical(y_train, num_classes=OUTPUT_DIMS)"
   ],
   "metadata": {
    "collapsed": false,
    "ExecuteTime": {
     "end_time": "2023-12-07T15:40:53.990415Z",
     "start_time": "2023-12-07T15:40:53.828307Z"
    }
   },
   "id": "3882b66ebe391834"
  },
  {
   "cell_type": "markdown",
   "source": [
    "### Build and compile the MLP model"
   ],
   "metadata": {
    "collapsed": false
   },
   "id": "ce9d871e929b894"
  },
  {
   "cell_type": "code",
   "execution_count": 4,
   "id": "6444ef153d85b76a",
   "metadata": {
    "collapsed": false,
    "ExecuteTime": {
     "end_time": "2023-12-07T15:40:54.032507Z",
     "start_time": "2023-12-07T15:40:53.993775Z"
    }
   },
   "outputs": [
    {
     "name": "stderr",
     "output_type": "stream",
     "text": [
      "WARNING:absl:At this time, the v2.11+ optimizer `tf.keras.optimizers.AdamW` runs slowly on M1/M2 Macs, please use the legacy Keras optimizer instead, located at `tf.keras.optimizers.legacy.AdamW`.\n"
     ]
    },
    {
     "name": "stdout",
     "output_type": "stream",
     "text": [
      "Model: \"sequential\"\n",
      "_________________________________________________________________\n",
      " Layer (type)                Output Shape              Param #   \n",
      "=================================================================\n",
      " Hidden_layer_1 (Dense)      (None, 512)               401920    \n",
      "                                                                 \n",
      " Hidden_layer_2 (Dense)      (None, 128)               65664     \n",
      "                                                                 \n",
      " output_layer (Dense)        (None, 10)                1290      \n",
      "                                                                 \n",
      "=================================================================\n",
      "Total params: 468874 (1.79 MB)\n",
      "Trainable params: 468874 (1.79 MB)\n",
      "Non-trainable params: 0 (0.00 Byte)\n",
      "_________________________________________________________________\n"
     ]
    }
   ],
   "source": [
    "NUM_EPOCHS = 20\n",
    "\n",
    "model = Sequential()\n",
    "\n",
    "model.add(Dense(512, activation=\"sigmoid\", input_shape=(INPUT_DIMS,), name=\"Hidden_layer_1\"))\n",
    "model.add(Dense(128, activation=\"sigmoid\", name=\"Hidden_layer_2\"))\n",
    "\n",
    "model.add(Dense(OUTPUT_DIMS, activation=\"softmax\", name=\"output_layer\"))\n",
    "\n",
    "model.build()\n",
    "\n",
    "model.compile(optimizer=AdamW(), loss='categorical_crossentropy', metrics=['accuracy'])\n",
    "\n",
    "model.summary()"
   ]
  },
  {
   "cell_type": "markdown",
   "source": [
    "### Execute Nigep to obtain the Generalization Profile results"
   ],
   "metadata": {
    "collapsed": false
   },
   "id": "1e4fc85e28cdfb7b"
  },
  {
   "cell_type": "code",
   "execution_count": 5,
   "outputs": [
    {
     "name": "stderr",
     "output_type": "stream",
     "text": [
      "WARNING:absl:At this time, the v2.11+ optimizer `tf.keras.optimizers.AdamW` runs slowly on M1/M2 Macs, please use the legacy Keras optimizer instead, located at `tf.keras.optimizers.legacy.AdamW`.\n",
      "WARNING:absl:At this time, the v2.11+ optimizer `tf.keras.optimizers.AdamW` runs slowly on M1/M2 Macs, please use the legacy Keras optimizer instead, located at `tf.keras.optimizers.legacy.AdamW`.\n",
      "WARNING:absl:Skipping variable loading for optimizer 'AdamW', because it has 13 variables whereas the saved optimizer has 1 variables. \n",
      "WARNING:absl:Skipping variable loading for optimizer 'AdamW', because it has 13 variables whereas the saved optimizer has 1 variables. \n"
     ]
    },
    {
     "name": "stdout",
     "output_type": "stream",
     "text": [
      "1350/1350 [==============================] - 5s 3ms/step - loss: 0.4220 - accuracy: 0.8828 - val_loss: 0.2127 - val_accuracy: 0.9327\n",
      "1350/1350 [==============================] - 5s 3ms/step - loss: 0.4204 - accuracy: 0.8838 - val_loss: 0.1841 - val_accuracy: 0.9483\n",
      "375/375 [==============================] - 0s 702us/step\n",
      "375/375 [==============================] - 0s 708us/step\n",
      "375/375 [==============================] - 0s 715us/step\n",
      "375/375 [==============================] - 0s 664us/step\n",
      "375/375 [==============================] - 0s 680us/step\n",
      "375/375 [==============================] - 0s 684us/step\n",
      "375/375 [==============================] - 0s 693us/step\n",
      "375/375 [==============================] - 0s 688us/step\n",
      "375/375 [==============================] - 0s 675us/step\n",
      "375/375 [==============================] - 0s 678us/step\n"
     ]
    },
    {
     "name": "stderr",
     "output_type": "stream",
     "text": [
      "/Users/vmberto/Documents/nigep/venv/lib/python3.9/site-packages/sklearn/metrics/_classification.py:1469: UndefinedMetricWarning: Precision and F-score are ill-defined and being set to 0.0 in labels with no predicted samples. Use `zero_division` parameter to control this behavior.\n",
      "  _warn_prf(average, modifier, msg_start, len(result))\n",
      "/Users/vmberto/Documents/nigep/venv/lib/python3.9/site-packages/sklearn/metrics/_classification.py:1469: UndefinedMetricWarning: Precision and F-score are ill-defined and being set to 0.0 in labels with no predicted samples. Use `zero_division` parameter to control this behavior.\n",
      "  _warn_prf(average, modifier, msg_start, len(result))\n",
      "/Users/vmberto/Documents/nigep/venv/lib/python3.9/site-packages/sklearn/metrics/_classification.py:1469: UndefinedMetricWarning: Precision and F-score are ill-defined and being set to 0.0 in labels with no predicted samples. Use `zero_division` parameter to control this behavior.\n",
      "  _warn_prf(average, modifier, msg_start, len(result))\n",
      "/Users/vmberto/Documents/nigep/venv/lib/python3.9/site-packages/sklearn/metrics/_classification.py:1469: UndefinedMetricWarning: Precision and F-score are ill-defined and being set to 0.0 in labels with no predicted samples. Use `zero_division` parameter to control this behavior.\n",
      "  _warn_prf(average, modifier, msg_start, len(result))\n",
      "/Users/vmberto/Documents/nigep/venv/lib/python3.9/site-packages/sklearn/metrics/_classification.py:1469: UndefinedMetricWarning: Precision and F-score are ill-defined and being set to 0.0 in labels with no predicted samples. Use `zero_division` parameter to control this behavior.\n",
      "  _warn_prf(average, modifier, msg_start, len(result))\n",
      "/Users/vmberto/Documents/nigep/venv/lib/python3.9/site-packages/sklearn/metrics/_classification.py:1469: UndefinedMetricWarning: Precision and F-score are ill-defined and being set to 0.0 in labels with no predicted samples. Use `zero_division` parameter to control this behavior.\n",
      "  _warn_prf(average, modifier, msg_start, len(result))\n"
     ]
    },
    {
     "name": "stdout",
     "output_type": "stream",
     "text": [
      "375/375 [==============================] - 0s 676us/step\n",
      "375/375 [==============================] - 0s 681us/step\n"
     ]
    },
    {
     "name": "stderr",
     "output_type": "stream",
     "text": [
      "/Users/vmberto/Documents/nigep/venv/lib/python3.9/site-packages/sklearn/metrics/_classification.py:1469: UndefinedMetricWarning: Precision and F-score are ill-defined and being set to 0.0 in labels with no predicted samples. Use `zero_division` parameter to control this behavior.\n",
      "  _warn_prf(average, modifier, msg_start, len(result))\n",
      "/Users/vmberto/Documents/nigep/venv/lib/python3.9/site-packages/sklearn/metrics/_classification.py:1469: UndefinedMetricWarning: Precision and F-score are ill-defined and being set to 0.0 in labels with no predicted samples. Use `zero_division` parameter to control this behavior.\n",
      "  _warn_prf(average, modifier, msg_start, len(result))\n",
      "/Users/vmberto/Documents/nigep/venv/lib/python3.9/site-packages/sklearn/metrics/_classification.py:1469: UndefinedMetricWarning: Precision and F-score are ill-defined and being set to 0.0 in labels with no predicted samples. Use `zero_division` parameter to control this behavior.\n",
      "  _warn_prf(average, modifier, msg_start, len(result))\n",
      "/Users/vmberto/Documents/nigep/venv/lib/python3.9/site-packages/sklearn/metrics/_classification.py:1469: UndefinedMetricWarning: Precision and F-score are ill-defined and being set to 0.0 in labels with no predicted samples. Use `zero_division` parameter to control this behavior.\n",
      "  _warn_prf(average, modifier, msg_start, len(result))\n",
      "/Users/vmberto/Documents/nigep/venv/lib/python3.9/site-packages/sklearn/metrics/_classification.py:1469: UndefinedMetricWarning: Precision and F-score are ill-defined and being set to 0.0 in labels with no predicted samples. Use `zero_division` parameter to control this behavior.\n",
      "  _warn_prf(average, modifier, msg_start, len(result))\n",
      "/Users/vmberto/Documents/nigep/venv/lib/python3.9/site-packages/sklearn/metrics/_classification.py:1469: UndefinedMetricWarning: Precision and F-score are ill-defined and being set to 0.0 in labels with no predicted samples. Use `zero_division` parameter to control this behavior.\n",
      "  _warn_prf(average, modifier, msg_start, len(result))\n"
     ]
    },
    {
     "name": "stdout",
     "output_type": "stream",
     "text": [
      "375/375 [==============================] - 0s 683us/step\n",
      "375/375 [==============================] - 0s 680us/step\n"
     ]
    },
    {
     "name": "stderr",
     "output_type": "stream",
     "text": [
      "/Users/vmberto/Documents/nigep/venv/lib/python3.9/site-packages/sklearn/metrics/_classification.py:1469: UndefinedMetricWarning: Precision and F-score are ill-defined and being set to 0.0 in labels with no predicted samples. Use `zero_division` parameter to control this behavior.\n",
      "  _warn_prf(average, modifier, msg_start, len(result))\n",
      "/Users/vmberto/Documents/nigep/venv/lib/python3.9/site-packages/sklearn/metrics/_classification.py:1469: UndefinedMetricWarning: Precision and F-score are ill-defined and being set to 0.0 in labels with no predicted samples. Use `zero_division` parameter to control this behavior.\n",
      "  _warn_prf(average, modifier, msg_start, len(result))\n",
      "/Users/vmberto/Documents/nigep/venv/lib/python3.9/site-packages/sklearn/metrics/_classification.py:1469: UndefinedMetricWarning: Precision and F-score are ill-defined and being set to 0.0 in labels with no predicted samples. Use `zero_division` parameter to control this behavior.\n",
      "  _warn_prf(average, modifier, msg_start, len(result))\n",
      "/Users/vmberto/Documents/nigep/venv/lib/python3.9/site-packages/sklearn/metrics/_classification.py:1469: UndefinedMetricWarning: Precision and F-score are ill-defined and being set to 0.0 in labels with no predicted samples. Use `zero_division` parameter to control this behavior.\n",
      "  _warn_prf(average, modifier, msg_start, len(result))\n",
      "/Users/vmberto/Documents/nigep/venv/lib/python3.9/site-packages/sklearn/metrics/_classification.py:1469: UndefinedMetricWarning: Precision and F-score are ill-defined and being set to 0.0 in labels with no predicted samples. Use `zero_division` parameter to control this behavior.\n",
      "  _warn_prf(average, modifier, msg_start, len(result))\n",
      "/Users/vmberto/Documents/nigep/venv/lib/python3.9/site-packages/sklearn/metrics/_classification.py:1469: UndefinedMetricWarning: Precision and F-score are ill-defined and being set to 0.0 in labels with no predicted samples. Use `zero_division` parameter to control this behavior.\n",
      "  _warn_prf(average, modifier, msg_start, len(result))\n"
     ]
    },
    {
     "name": "stdout",
     "output_type": "stream",
     "text": [
      "375/375 [==============================] - 0s 670us/step\n",
      "375/375 [==============================] - 0s 673us/step\n"
     ]
    },
    {
     "name": "stderr",
     "output_type": "stream",
     "text": [
      "/Users/vmberto/Documents/nigep/venv/lib/python3.9/site-packages/sklearn/metrics/_classification.py:1469: UndefinedMetricWarning: Precision and F-score are ill-defined and being set to 0.0 in labels with no predicted samples. Use `zero_division` parameter to control this behavior.\n",
      "  _warn_prf(average, modifier, msg_start, len(result))\n",
      "/Users/vmberto/Documents/nigep/venv/lib/python3.9/site-packages/sklearn/metrics/_classification.py:1469: UndefinedMetricWarning: Precision and F-score are ill-defined and being set to 0.0 in labels with no predicted samples. Use `zero_division` parameter to control this behavior.\n",
      "  _warn_prf(average, modifier, msg_start, len(result))\n",
      "/Users/vmberto/Documents/nigep/venv/lib/python3.9/site-packages/sklearn/metrics/_classification.py:1469: UndefinedMetricWarning: Precision and F-score are ill-defined and being set to 0.0 in labels with no predicted samples. Use `zero_division` parameter to control this behavior.\n",
      "  _warn_prf(average, modifier, msg_start, len(result))\n",
      "/Users/vmberto/Documents/nigep/venv/lib/python3.9/site-packages/sklearn/metrics/_classification.py:1469: UndefinedMetricWarning: Precision and F-score are ill-defined and being set to 0.0 in labels with no predicted samples. Use `zero_division` parameter to control this behavior.\n",
      "  _warn_prf(average, modifier, msg_start, len(result))\n",
      "/Users/vmberto/Documents/nigep/venv/lib/python3.9/site-packages/sklearn/metrics/_classification.py:1469: UndefinedMetricWarning: Precision and F-score are ill-defined and being set to 0.0 in labels with no predicted samples. Use `zero_division` parameter to control this behavior.\n",
      "  _warn_prf(average, modifier, msg_start, len(result))\n",
      "/Users/vmberto/Documents/nigep/venv/lib/python3.9/site-packages/sklearn/metrics/_classification.py:1469: UndefinedMetricWarning: Precision and F-score are ill-defined and being set to 0.0 in labels with no predicted samples. Use `zero_division` parameter to control this behavior.\n",
      "  _warn_prf(average, modifier, msg_start, len(result))\n"
     ]
    },
    {
     "name": "stdout",
     "output_type": "stream",
     "text": [
      "375/375 [==============================] - 0s 694us/step\n",
      "375/375 [==============================] - 0s 687us/step\n"
     ]
    },
    {
     "name": "stderr",
     "output_type": "stream",
     "text": [
      "/Users/vmberto/Documents/nigep/venv/lib/python3.9/site-packages/sklearn/metrics/_classification.py:1469: UndefinedMetricWarning: Precision and F-score are ill-defined and being set to 0.0 in labels with no predicted samples. Use `zero_division` parameter to control this behavior.\n",
      "  _warn_prf(average, modifier, msg_start, len(result))\n",
      "/Users/vmberto/Documents/nigep/venv/lib/python3.9/site-packages/sklearn/metrics/_classification.py:1469: UndefinedMetricWarning: Precision and F-score are ill-defined and being set to 0.0 in labels with no predicted samples. Use `zero_division` parameter to control this behavior.\n",
      "  _warn_prf(average, modifier, msg_start, len(result))\n",
      "/Users/vmberto/Documents/nigep/venv/lib/python3.9/site-packages/sklearn/metrics/_classification.py:1469: UndefinedMetricWarning: Precision and F-score are ill-defined and being set to 0.0 in labels with no predicted samples. Use `zero_division` parameter to control this behavior.\n",
      "  _warn_prf(average, modifier, msg_start, len(result))\n",
      "/Users/vmberto/Documents/nigep/venv/lib/python3.9/site-packages/sklearn/metrics/_classification.py:1469: UndefinedMetricWarning: Precision and F-score are ill-defined and being set to 0.0 in labels with no predicted samples. Use `zero_division` parameter to control this behavior.\n",
      "  _warn_prf(average, modifier, msg_start, len(result))\n",
      "/Users/vmberto/Documents/nigep/venv/lib/python3.9/site-packages/sklearn/metrics/_classification.py:1469: UndefinedMetricWarning: Precision and F-score are ill-defined and being set to 0.0 in labels with no predicted samples. Use `zero_division` parameter to control this behavior.\n",
      "  _warn_prf(average, modifier, msg_start, len(result))\n",
      "/Users/vmberto/Documents/nigep/venv/lib/python3.9/site-packages/sklearn/metrics/_classification.py:1469: UndefinedMetricWarning: Precision and F-score are ill-defined and being set to 0.0 in labels with no predicted samples. Use `zero_division` parameter to control this behavior.\n",
      "  _warn_prf(average, modifier, msg_start, len(result))\n"
     ]
    },
    {
     "name": "stdout",
     "output_type": "stream",
     "text": [
      "375/375 [==============================] - 0s 692us/step\n",
      "375/375 [==============================] - 0s 690us/step\n"
     ]
    },
    {
     "name": "stderr",
     "output_type": "stream",
     "text": [
      "/Users/vmberto/Documents/nigep/venv/lib/python3.9/site-packages/sklearn/metrics/_classification.py:1469: UndefinedMetricWarning: Precision and F-score are ill-defined and being set to 0.0 in labels with no predicted samples. Use `zero_division` parameter to control this behavior.\n",
      "  _warn_prf(average, modifier, msg_start, len(result))\n",
      "/Users/vmberto/Documents/nigep/venv/lib/python3.9/site-packages/sklearn/metrics/_classification.py:1469: UndefinedMetricWarning: Precision and F-score are ill-defined and being set to 0.0 in labels with no predicted samples. Use `zero_division` parameter to control this behavior.\n",
      "  _warn_prf(average, modifier, msg_start, len(result))\n",
      "/Users/vmberto/Documents/nigep/venv/lib/python3.9/site-packages/sklearn/metrics/_classification.py:1469: UndefinedMetricWarning: Precision and F-score are ill-defined and being set to 0.0 in labels with no predicted samples. Use `zero_division` parameter to control this behavior.\n",
      "  _warn_prf(average, modifier, msg_start, len(result))\n",
      "/Users/vmberto/Documents/nigep/venv/lib/python3.9/site-packages/sklearn/metrics/_classification.py:1469: UndefinedMetricWarning: Precision and F-score are ill-defined and being set to 0.0 in labels with no predicted samples. Use `zero_division` parameter to control this behavior.\n",
      "  _warn_prf(average, modifier, msg_start, len(result))\n",
      "/Users/vmberto/Documents/nigep/venv/lib/python3.9/site-packages/sklearn/metrics/_classification.py:1469: UndefinedMetricWarning: Precision and F-score are ill-defined and being set to 0.0 in labels with no predicted samples. Use `zero_division` parameter to control this behavior.\n",
      "  _warn_prf(average, modifier, msg_start, len(result))\n",
      "/Users/vmberto/Documents/nigep/venv/lib/python3.9/site-packages/sklearn/metrics/_classification.py:1469: UndefinedMetricWarning: Precision and F-score are ill-defined and being set to 0.0 in labels with no predicted samples. Use `zero_division` parameter to control this behavior.\n",
      "  _warn_prf(average, modifier, msg_start, len(result))\n"
     ]
    },
    {
     "name": "stdout",
     "output_type": "stream",
     "text": [
      "1350/1350 [==============================] - 5s 3ms/step - loss: 0.2585 - accuracy: 0.9199 - val_loss: 0.1755 - val_accuracy: 0.9467\n",
      "1350/1350 [==============================] - 5s 3ms/step - loss: 0.2554 - accuracy: 0.9203 - val_loss: 0.1750 - val_accuracy: 0.9508\n",
      "375/375 [==============================] - 0s 865us/step\n",
      "375/375 [==============================] - 0s 827us/step\n",
      "375/375 [==============================] - 0s 1ms/step\n",
      "375/375 [==============================] - 0s 1ms/step\n",
      "375/375 [==============================] - 0s 712us/step\n",
      "375/375 [==============================] - 0s 702us/step\n",
      "375/375 [==============================] - 0s 916us/step\n",
      "375/375 [==============================] - 0s 905us/step\n",
      "375/375 [==============================] - 0s 661us/step\n",
      "375/375 [==============================] - 0s 657us/step\n",
      "375/375 [==============================] - 0s 695us/step\n",
      "375/375 [==============================] - 0s 692us/step\n",
      "375/375 [==============================] - 0s 688us/step\n",
      "375/375 [==============================] - 0s 685us/step\n",
      "375/375 [==============================] - 0s 679us/step\n",
      "375/375 [==============================] - 0s 675us/step\n",
      "375/375 [==============================] - 0s 668us/step\n",
      "375/375 [==============================] - 0s 666us/step\n"
     ]
    },
    {
     "name": "stderr",
     "output_type": "stream",
     "text": [
      "/Users/vmberto/Documents/nigep/venv/lib/python3.9/site-packages/sklearn/metrics/_classification.py:1469: UndefinedMetricWarning: Precision and F-score are ill-defined and being set to 0.0 in labels with no predicted samples. Use `zero_division` parameter to control this behavior.\n",
      "  _warn_prf(average, modifier, msg_start, len(result))\n",
      "/Users/vmberto/Documents/nigep/venv/lib/python3.9/site-packages/sklearn/metrics/_classification.py:1469: UndefinedMetricWarning: Precision and F-score are ill-defined and being set to 0.0 in labels with no predicted samples. Use `zero_division` parameter to control this behavior.\n",
      "  _warn_prf(average, modifier, msg_start, len(result))\n",
      "/Users/vmberto/Documents/nigep/venv/lib/python3.9/site-packages/sklearn/metrics/_classification.py:1469: UndefinedMetricWarning: Precision and F-score are ill-defined and being set to 0.0 in labels with no predicted samples. Use `zero_division` parameter to control this behavior.\n",
      "  _warn_prf(average, modifier, msg_start, len(result))\n"
     ]
    },
    {
     "name": "stdout",
     "output_type": "stream",
     "text": [
      "375/375 [==============================] - 0s 675us/step\n",
      "375/375 [==============================] - 0s 667us/step\n"
     ]
    },
    {
     "name": "stderr",
     "output_type": "stream",
     "text": [
      "/Users/vmberto/Documents/nigep/venv/lib/python3.9/site-packages/sklearn/metrics/_classification.py:1469: UndefinedMetricWarning: Precision and F-score are ill-defined and being set to 0.0 in labels with no predicted samples. Use `zero_division` parameter to control this behavior.\n",
      "  _warn_prf(average, modifier, msg_start, len(result))\n",
      "/Users/vmberto/Documents/nigep/venv/lib/python3.9/site-packages/sklearn/metrics/_classification.py:1469: UndefinedMetricWarning: Precision and F-score are ill-defined and being set to 0.0 in labels with no predicted samples. Use `zero_division` parameter to control this behavior.\n",
      "  _warn_prf(average, modifier, msg_start, len(result))\n",
      "/Users/vmberto/Documents/nigep/venv/lib/python3.9/site-packages/sklearn/metrics/_classification.py:1469: UndefinedMetricWarning: Precision and F-score are ill-defined and being set to 0.0 in labels with no predicted samples. Use `zero_division` parameter to control this behavior.\n",
      "  _warn_prf(average, modifier, msg_start, len(result))\n",
      "/Users/vmberto/Documents/nigep/venv/lib/python3.9/site-packages/sklearn/metrics/_classification.py:1469: UndefinedMetricWarning: Precision and F-score are ill-defined and being set to 0.0 in labels with no predicted samples. Use `zero_division` parameter to control this behavior.\n",
      "  _warn_prf(average, modifier, msg_start, len(result))\n",
      "/Users/vmberto/Documents/nigep/venv/lib/python3.9/site-packages/sklearn/metrics/_classification.py:1469: UndefinedMetricWarning: Precision and F-score are ill-defined and being set to 0.0 in labels with no predicted samples. Use `zero_division` parameter to control this behavior.\n",
      "  _warn_prf(average, modifier, msg_start, len(result))\n",
      "/Users/vmberto/Documents/nigep/venv/lib/python3.9/site-packages/sklearn/metrics/_classification.py:1469: UndefinedMetricWarning: Precision and F-score are ill-defined and being set to 0.0 in labels with no predicted samples. Use `zero_division` parameter to control this behavior.\n",
      "  _warn_prf(average, modifier, msg_start, len(result))\n"
     ]
    },
    {
     "name": "stdout",
     "output_type": "stream",
     "text": [
      "1350/1350 [==============================] - 4s 3ms/step - loss: 0.2398 - accuracy: 0.9244 - val_loss: 0.1983 - val_accuracy: 0.9385\n",
      "1350/1350 [==============================] - 4s 3ms/step - loss: 0.2425 - accuracy: 0.9237 - val_loss: 0.1814 - val_accuracy: 0.9469\n",
      "375/375 [==============================] - 0s 878us/step\n",
      "375/375 [==============================] - 0s 861us/step\n",
      "375/375 [==============================] - 0s 804us/step\n",
      "375/375 [==============================] - 0s 774us/step\n",
      "375/375 [==============================] - 0s 778us/step\n",
      "375/375 [==============================] - 0s 762us/step\n",
      "375/375 [==============================] - 0s 673us/step\n",
      "375/375 [==============================] - 0s 661us/step\n",
      "375/375 [==============================] - 0s 666us/step\n",
      "375/375 [==============================] - 0s 658us/step\n",
      "375/375 [==============================] - 0s 691us/step\n",
      "375/375 [==============================] - 0s 686us/step\n",
      "375/375 [==============================] - 0s 675us/step\n",
      "375/375 [==============================] - 0s 662us/step\n",
      "375/375 [==============================] - 0s 676us/step\n",
      "375/375 [==============================] - 0s 666us/step\n",
      "375/375 [==============================] - 0s 671us/step\n",
      "375/375 [==============================] - 0s 666us/step\n"
     ]
    },
    {
     "name": "stderr",
     "output_type": "stream",
     "text": [
      "/Users/vmberto/Documents/nigep/venv/lib/python3.9/site-packages/sklearn/metrics/_classification.py:1469: UndefinedMetricWarning: Precision and F-score are ill-defined and being set to 0.0 in labels with no predicted samples. Use `zero_division` parameter to control this behavior.\n",
      "  _warn_prf(average, modifier, msg_start, len(result))\n",
      "/Users/vmberto/Documents/nigep/venv/lib/python3.9/site-packages/sklearn/metrics/_classification.py:1469: UndefinedMetricWarning: Precision and F-score are ill-defined and being set to 0.0 in labels with no predicted samples. Use `zero_division` parameter to control this behavior.\n",
      "  _warn_prf(average, modifier, msg_start, len(result))\n",
      "/Users/vmberto/Documents/nigep/venv/lib/python3.9/site-packages/sklearn/metrics/_classification.py:1469: UndefinedMetricWarning: Precision and F-score are ill-defined and being set to 0.0 in labels with no predicted samples. Use `zero_division` parameter to control this behavior.\n",
      "  _warn_prf(average, modifier, msg_start, len(result))\n"
     ]
    },
    {
     "name": "stdout",
     "output_type": "stream",
     "text": [
      "375/375 [==============================] - 0s 679us/step\n",
      "375/375 [==============================] - 0s 668us/step\n"
     ]
    },
    {
     "name": "stderr",
     "output_type": "stream",
     "text": [
      "/Users/vmberto/Documents/nigep/venv/lib/python3.9/site-packages/sklearn/metrics/_classification.py:1469: UndefinedMetricWarning: Precision and F-score are ill-defined and being set to 0.0 in labels with no predicted samples. Use `zero_division` parameter to control this behavior.\n",
      "  _warn_prf(average, modifier, msg_start, len(result))\n",
      "/Users/vmberto/Documents/nigep/venv/lib/python3.9/site-packages/sklearn/metrics/_classification.py:1469: UndefinedMetricWarning: Precision and F-score are ill-defined and being set to 0.0 in labels with no predicted samples. Use `zero_division` parameter to control this behavior.\n",
      "  _warn_prf(average, modifier, msg_start, len(result))\n",
      "/Users/vmberto/Documents/nigep/venv/lib/python3.9/site-packages/sklearn/metrics/_classification.py:1469: UndefinedMetricWarning: Precision and F-score are ill-defined and being set to 0.0 in labels with no predicted samples. Use `zero_division` parameter to control this behavior.\n",
      "  _warn_prf(average, modifier, msg_start, len(result))\n"
     ]
    },
    {
     "name": "stdout",
     "output_type": "stream",
     "text": [
      "1350/1350 [==============================] - 5s 3ms/step - loss: 0.2520 - accuracy: 0.9201 - val_loss: 0.2047 - val_accuracy: 0.9356\n",
      "1350/1350 [==============================] - 5s 3ms/step - loss: 0.2510 - accuracy: 0.9191 - val_loss: 0.1937 - val_accuracy: 0.9406\n",
      "375/375 [==============================] - 0s 687us/step\n",
      "375/375 [==============================] - 0s 646us/step\n",
      "375/375 [==============================] - 0s 646us/step\n",
      "375/375 [==============================] - 0s 674us/step\n",
      "375/375 [==============================] - 0s 692us/step\n",
      "375/375 [==============================] - 0s 1ms/step\n",
      "375/375 [==============================] - 0s 728us/step\n",
      "375/375 [==============================] - 0s 595us/step\n",
      "375/375 [==============================] - 0s 827us/step\n",
      "375/375 [==============================] - 0s 1ms/step\n",
      "375/375 [==============================] - 0s 648us/step\n",
      "375/375 [==============================] - 0s 604us/step\n",
      "375/375 [==============================] - 0s 593us/step\n",
      "375/375 [==============================] - 0s 584us/step\n",
      "375/375 [==============================] - 0s 595us/step\n",
      "375/375 [==============================] - 0s 598us/step\n",
      "375/375 [==============================] - 0s 589us/step\n",
      "375/375 [==============================] - 0s 592us/step\n",
      "375/375 [==============================] - 0s 775us/step\n",
      "375/375 [==============================] - 0s 801us/step\n",
      "1350/1350 [==============================] - 4s 3ms/step - loss: 0.2834 - accuracy: 0.9065 - val_loss: 0.2285 - val_accuracy: 0.9306\n",
      "1350/1350 [==============================] - 4s 3ms/step - loss: 0.2802 - accuracy: 0.9083 - val_loss: 0.2301 - val_accuracy: 0.9285\n",
      "375/375 [==============================] - 0s 661us/step\n",
      "375/375 [==============================] - 0s 626us/step\n",
      "375/375 [==============================] - 0s 667us/step\n",
      "375/375 [==============================] - 0s 641us/step\n",
      "375/375 [==============================] - 0s 828us/step\n",
      "375/375 [==============================] - 0s 946us/step\n",
      "375/375 [==============================] - 0s 730us/step\n",
      "375/375 [==============================] - 0s 672us/step\n",
      "375/375 [==============================] - 0s 835us/step\n",
      "375/375 [==============================] - 0s 686us/step\n",
      "375/375 [==============================] - 0s 663us/step\n",
      "375/375 [==============================] - 0s 646us/step\n",
      "375/375 [==============================] - 0s 638us/step\n",
      "375/375 [==============================] - 0s 626us/step\n",
      "375/375 [==============================] - 0s 647us/step\n",
      "375/375 [==============================] - 0s 632us/step\n",
      "375/375 [==============================] - 0s 761us/step\n",
      "375/375 [==============================] - 0s 687us/step\n",
      "375/375 [==============================] - 0s 642us/step\n",
      "375/375 [==============================] - 0s 640us/step\n",
      "1350/1350 [==============================] - 5s 4ms/step - loss: 0.3316 - accuracy: 0.8918 - val_loss: 0.2580 - val_accuracy: 0.9175\n",
      "1350/1350 [==============================] - 5s 4ms/step - loss: 0.3308 - accuracy: 0.8922 - val_loss: 0.2610 - val_accuracy: 0.9148\n",
      "375/375 [==============================] - 0s 648us/step\n",
      "375/375 [==============================] - 0s 630us/step\n",
      "375/375 [==============================] - 0s 633us/step\n",
      "375/375 [==============================] - 0s 645us/step\n",
      "375/375 [==============================] - 0s 647us/step\n",
      "375/375 [==============================] - 0s 645us/step\n",
      "375/375 [==============================] - 0s 695us/step\n",
      "375/375 [==============================] - 0s 713us/step\n",
      "375/375 [==============================] - 0s 657us/step\n",
      "375/375 [==============================] - 0s 650us/step\n",
      "375/375 [==============================] - 0s 658us/step\n",
      "375/375 [==============================] - 0s 659us/step\n",
      "375/375 [==============================] - 0s 631us/step\n",
      "375/375 [==============================] - 0s 645us/step\n",
      "375/375 [==============================] - 0s 640us/step\n",
      "375/375 [==============================] - 0s 630us/step\n",
      "375/375 [==============================] - 0s 634us/step\n",
      "375/375 [==============================] - 0s 640us/step\n",
      "375/375 [==============================] - 0s 641us/step\n",
      "375/375 [==============================] - 0s 666us/step\n",
      "1350/1350 [==============================] - 4s 3ms/step - loss: 0.3952 - accuracy: 0.8707 - val_loss: 0.3390 - val_accuracy: 0.8915\n",
      "1350/1350 [==============================] - 4s 3ms/step - loss: 0.4004 - accuracy: 0.8691 - val_loss: 0.3418 - val_accuracy: 0.8917\n",
      "375/375 [==============================] - 0s 748us/step\n",
      "375/375 [==============================] - 0s 736us/step\n",
      "375/375 [==============================] - 0s 680us/step\n",
      "375/375 [==============================] - 0s 676us/step\n",
      "375/375 [==============================] - 0s 676us/step\n",
      "375/375 [==============================] - 0s 675us/step\n",
      "375/375 [==============================] - 0s 682us/step\n",
      "375/375 [==============================] - 0s 672us/step\n",
      "375/375 [==============================] - 0s 683us/step\n",
      "375/375 [==============================] - 0s 684us/step\n",
      "375/375 [==============================] - 0s 720us/step\n",
      "375/375 [==============================] - 0s 714us/step\n",
      "375/375 [==============================] - 0s 694us/step\n",
      "375/375 [==============================] - 0s 693us/step\n",
      "375/375 [==============================] - 0s 699us/step\n",
      "375/375 [==============================] - 0s 695us/step\n",
      "375/375 [==============================] - 0s 724us/step\n",
      "375/375 [==============================] - 0s 720us/step\n",
      "375/375 [==============================] - 0s 711us/step\n",
      "375/375 [==============================] - 0s 710us/step\n",
      "1350/1350 [==============================] - 4s 3ms/step - loss: 0.4699 - accuracy: 0.8410 - val_loss: 0.4226 - val_accuracy: 0.8560\n",
      "1350/1350 [==============================] - 4s 3ms/step - loss: 0.4735 - accuracy: 0.8415 - val_loss: 0.4102 - val_accuracy: 0.8642\n",
      "375/375 [==============================] - 0s 648us/step\n",
      "375/375 [==============================] - 0s 642us/step\n",
      "375/375 [==============================] - 0s 651us/step\n",
      "375/375 [==============================] - 0s 669us/step\n",
      "375/375 [==============================] - 0s 644us/step\n",
      "375/375 [==============================] - 0s 638us/step\n",
      "375/375 [==============================] - 0s 657us/step\n",
      "375/375 [==============================] - 0s 647us/step\n",
      "375/375 [==============================] - 0s 658us/step\n",
      "375/375 [==============================] - 0s 652us/step\n",
      "375/375 [==============================] - 0s 665us/step\n",
      "375/375 [==============================] - 0s 662us/step\n",
      "375/375 [==============================] - 0s 660us/step\n",
      "375/375 [==============================] - 0s 662us/step\n",
      "375/375 [==============================] - 0s 738us/step\n",
      "375/375 [==============================] - 0s 742us/step\n",
      "375/375 [==============================] - 0s 729us/step\n",
      "375/375 [==============================] - 0s 715us/step\n",
      "375/375 [==============================] - 0s 675us/step\n",
      "375/375 [==============================] - 0s 679us/step\n",
      "1350/1350 [==============================] - 4s 3ms/step - loss: 0.5711 - accuracy: 0.8075 - val_loss: 0.4972 - val_accuracy: 0.8290\n",
      "1350/1350 [==============================] - 4s 3ms/step - loss: 0.5670 - accuracy: 0.8100 - val_loss: 0.4959 - val_accuracy: 0.8377\n",
      "375/375 [==============================] - 0s 958us/step\n",
      "375/375 [==============================] - 0s 967us/step\n",
      "375/375 [==============================] - 0s 1ms/step\n",
      "375/375 [==============================] - 0s 1ms/step\n",
      "375/375 [==============================] - 0s 666us/step\n",
      "375/375 [==============================] - 0s 662us/step\n",
      "375/375 [==============================] - 0s 670us/step\n",
      "375/375 [==============================] - 0s 662us/step\n",
      "375/375 [==============================] - 0s 673us/step\n",
      "375/375 [==============================] - 0s 659us/step\n",
      "375/375 [==============================] - 0s 677us/step\n",
      "375/375 [==============================] - 0s 684us/step\n",
      "375/375 [==============================] - 0s 664us/step\n",
      "375/375 [==============================] - 0s 660us/step\n",
      "375/375 [==============================] - 0s 676us/step\n",
      "375/375 [==============================] - 0s 671us/step\n",
      "375/375 [==============================] - 0s 711us/step\n",
      "375/375 [==============================] - 0s 726us/step\n",
      "375/375 [==============================] - 0s 729us/step\n",
      "375/375 [==============================] - 0s 732us/step\n",
      "1350/1350 [==============================] - 5s 3ms/step - loss: 0.6808 - accuracy: 0.7704 - val_loss: 0.6581 - val_accuracy: 0.7777\n",
      "1350/1350 [==============================] - 5s 3ms/step - loss: 0.6821 - accuracy: 0.7699 - val_loss: 0.5940 - val_accuracy: 0.8054\n",
      "375/375 [==============================] - 0s 754us/step\n",
      "375/375 [==============================] - 0s 749us/step\n",
      "375/375 [==============================] - 0s 760us/step\n",
      "375/375 [==============================] - 0s 741us/step\n",
      "375/375 [==============================] - 0s 660us/step\n",
      "375/375 [==============================] - 0s 667us/step\n",
      "375/375 [==============================] - 0s 676us/step\n",
      "375/375 [==============================] - 0s 717us/step\n",
      "375/375 [==============================] - 0s 676us/step\n",
      "375/375 [==============================] - 0s 655us/step\n",
      "375/375 [==============================] - 0s 728us/step\n",
      "375/375 [==============================] - 0s 699us/step\n",
      "375/375 [==============================] - 0s 706us/step\n",
      "375/375 [==============================] - 0s 697us/step\n",
      "375/375 [==============================] - 0s 716us/step\n",
      "375/375 [==============================] - 0s 709us/step\n",
      "375/375 [==============================] - 0s 696us/step\n",
      "375/375 [==============================] - 0s 694us/step\n",
      "375/375 [==============================] - 0s 670us/step\n",
      "375/375 [==============================] - 0s 670us/step\n"
     ]
    },
    {
     "name": "stderr",
     "output_type": "stream",
     "text": [
      "WARNING:absl:At this time, the v2.11+ optimizer `tf.keras.optimizers.AdamW` runs slowly on M1/M2 Macs, please use the legacy Keras optimizer instead, located at `tf.keras.optimizers.legacy.AdamW`.\n",
      "WARNING:absl:Skipping variable loading for optimizer 'AdamW', because it has 13 variables whereas the saved optimizer has 1 variables. \n",
      "WARNING:absl:At this time, the v2.11+ optimizer `tf.keras.optimizers.AdamW` runs slowly on M1/M2 Macs, please use the legacy Keras optimizer instead, located at `tf.keras.optimizers.legacy.AdamW`.\n",
      "WARNING:absl:Skipping variable loading for optimizer 'AdamW', because it has 13 variables whereas the saved optimizer has 1 variables. \n"
     ]
    },
    {
     "name": "stdout",
     "output_type": "stream",
     "text": [
      "1350/1350 [==============================] - 5s 3ms/step - loss: 0.4227 - accuracy: 0.8820 - val_loss: 0.1833 - val_accuracy: 0.9500\n",
      "1350/1350 [==============================] - 5s 3ms/step - loss: 0.4242 - accuracy: 0.8806 - val_loss: 0.1730 - val_accuracy: 0.9483\n",
      "375/375 [==============================] - 0s 693us/step\n",
      "375/375 [==============================] - 0s 690us/step\n",
      "375/375 [==============================] - 0s 703us/step\n",
      "375/375 [==============================] - 0s 707us/step\n",
      "375/375 [==============================] - 0s 694us/step\n",
      "375/375 [==============================] - 0s 696us/step\n",
      "375/375 [==============================] - 0s 678us/step\n",
      "375/375 [==============================] - 0s 692us/step\n",
      "375/375 [==============================] - 0s 688us/step\n",
      "375/375 [==============================] - 0s 686us/step\n"
     ]
    },
    {
     "name": "stderr",
     "output_type": "stream",
     "text": [
      "/Users/vmberto/Documents/nigep/venv/lib/python3.9/site-packages/sklearn/metrics/_classification.py:1469: UndefinedMetricWarning: Precision and F-score are ill-defined and being set to 0.0 in labels with no predicted samples. Use `zero_division` parameter to control this behavior.\n",
      "  _warn_prf(average, modifier, msg_start, len(result))\n",
      "/Users/vmberto/Documents/nigep/venv/lib/python3.9/site-packages/sklearn/metrics/_classification.py:1469: UndefinedMetricWarning: Precision and F-score are ill-defined and being set to 0.0 in labels with no predicted samples. Use `zero_division` parameter to control this behavior.\n",
      "  _warn_prf(average, modifier, msg_start, len(result))\n",
      "/Users/vmberto/Documents/nigep/venv/lib/python3.9/site-packages/sklearn/metrics/_classification.py:1469: UndefinedMetricWarning: Precision and F-score are ill-defined and being set to 0.0 in labels with no predicted samples. Use `zero_division` parameter to control this behavior.\n",
      "  _warn_prf(average, modifier, msg_start, len(result))\n"
     ]
    },
    {
     "name": "stdout",
     "output_type": "stream",
     "text": [
      "375/375 [==============================] - 0s 688us/step\n",
      "375/375 [==============================] - 0s 693us/step\n"
     ]
    },
    {
     "name": "stderr",
     "output_type": "stream",
     "text": [
      "/Users/vmberto/Documents/nigep/venv/lib/python3.9/site-packages/sklearn/metrics/_classification.py:1469: UndefinedMetricWarning: Precision and F-score are ill-defined and being set to 0.0 in labels with no predicted samples. Use `zero_division` parameter to control this behavior.\n",
      "  _warn_prf(average, modifier, msg_start, len(result))\n",
      "/Users/vmberto/Documents/nigep/venv/lib/python3.9/site-packages/sklearn/metrics/_classification.py:1469: UndefinedMetricWarning: Precision and F-score are ill-defined and being set to 0.0 in labels with no predicted samples. Use `zero_division` parameter to control this behavior.\n",
      "  _warn_prf(average, modifier, msg_start, len(result))\n",
      "/Users/vmberto/Documents/nigep/venv/lib/python3.9/site-packages/sklearn/metrics/_classification.py:1469: UndefinedMetricWarning: Precision and F-score are ill-defined and being set to 0.0 in labels with no predicted samples. Use `zero_division` parameter to control this behavior.\n",
      "  _warn_prf(average, modifier, msg_start, len(result))\n",
      "/Users/vmberto/Documents/nigep/venv/lib/python3.9/site-packages/sklearn/metrics/_classification.py:1469: UndefinedMetricWarning: Precision and F-score are ill-defined and being set to 0.0 in labels with no predicted samples. Use `zero_division` parameter to control this behavior.\n",
      "  _warn_prf(average, modifier, msg_start, len(result))\n",
      "/Users/vmberto/Documents/nigep/venv/lib/python3.9/site-packages/sklearn/metrics/_classification.py:1469: UndefinedMetricWarning: Precision and F-score are ill-defined and being set to 0.0 in labels with no predicted samples. Use `zero_division` parameter to control this behavior.\n",
      "  _warn_prf(average, modifier, msg_start, len(result))\n",
      "/Users/vmberto/Documents/nigep/venv/lib/python3.9/site-packages/sklearn/metrics/_classification.py:1469: UndefinedMetricWarning: Precision and F-score are ill-defined and being set to 0.0 in labels with no predicted samples. Use `zero_division` parameter to control this behavior.\n",
      "  _warn_prf(average, modifier, msg_start, len(result))\n"
     ]
    },
    {
     "name": "stdout",
     "output_type": "stream",
     "text": [
      "375/375 [==============================] - 0s 691us/step\n",
      "375/375 [==============================] - 0s 707us/step\n"
     ]
    },
    {
     "name": "stderr",
     "output_type": "stream",
     "text": [
      "/Users/vmberto/Documents/nigep/venv/lib/python3.9/site-packages/sklearn/metrics/_classification.py:1469: UndefinedMetricWarning: Precision and F-score are ill-defined and being set to 0.0 in labels with no predicted samples. Use `zero_division` parameter to control this behavior.\n",
      "  _warn_prf(average, modifier, msg_start, len(result))\n",
      "/Users/vmberto/Documents/nigep/venv/lib/python3.9/site-packages/sklearn/metrics/_classification.py:1469: UndefinedMetricWarning: Precision and F-score are ill-defined and being set to 0.0 in labels with no predicted samples. Use `zero_division` parameter to control this behavior.\n",
      "  _warn_prf(average, modifier, msg_start, len(result))\n",
      "/Users/vmberto/Documents/nigep/venv/lib/python3.9/site-packages/sklearn/metrics/_classification.py:1469: UndefinedMetricWarning: Precision and F-score are ill-defined and being set to 0.0 in labels with no predicted samples. Use `zero_division` parameter to control this behavior.\n",
      "  _warn_prf(average, modifier, msg_start, len(result))\n",
      "/Users/vmberto/Documents/nigep/venv/lib/python3.9/site-packages/sklearn/metrics/_classification.py:1469: UndefinedMetricWarning: Precision and F-score are ill-defined and being set to 0.0 in labels with no predicted samples. Use `zero_division` parameter to control this behavior.\n",
      "  _warn_prf(average, modifier, msg_start, len(result))\n",
      "/Users/vmberto/Documents/nigep/venv/lib/python3.9/site-packages/sklearn/metrics/_classification.py:1469: UndefinedMetricWarning: Precision and F-score are ill-defined and being set to 0.0 in labels with no predicted samples. Use `zero_division` parameter to control this behavior.\n",
      "  _warn_prf(average, modifier, msg_start, len(result))\n",
      "/Users/vmberto/Documents/nigep/venv/lib/python3.9/site-packages/sklearn/metrics/_classification.py:1469: UndefinedMetricWarning: Precision and F-score are ill-defined and being set to 0.0 in labels with no predicted samples. Use `zero_division` parameter to control this behavior.\n",
      "  _warn_prf(average, modifier, msg_start, len(result))\n"
     ]
    },
    {
     "name": "stdout",
     "output_type": "stream",
     "text": [
      "375/375 [==============================] - 0s 710us/step\n",
      "375/375 [==============================] - 0s 698us/step\n"
     ]
    },
    {
     "name": "stderr",
     "output_type": "stream",
     "text": [
      "/Users/vmberto/Documents/nigep/venv/lib/python3.9/site-packages/sklearn/metrics/_classification.py:1469: UndefinedMetricWarning: Precision and F-score are ill-defined and being set to 0.0 in labels with no predicted samples. Use `zero_division` parameter to control this behavior.\n",
      "  _warn_prf(average, modifier, msg_start, len(result))\n",
      "/Users/vmberto/Documents/nigep/venv/lib/python3.9/site-packages/sklearn/metrics/_classification.py:1469: UndefinedMetricWarning: Precision and F-score are ill-defined and being set to 0.0 in labels with no predicted samples. Use `zero_division` parameter to control this behavior.\n",
      "  _warn_prf(average, modifier, msg_start, len(result))\n",
      "/Users/vmberto/Documents/nigep/venv/lib/python3.9/site-packages/sklearn/metrics/_classification.py:1469: UndefinedMetricWarning: Precision and F-score are ill-defined and being set to 0.0 in labels with no predicted samples. Use `zero_division` parameter to control this behavior.\n",
      "  _warn_prf(average, modifier, msg_start, len(result))\n",
      "/Users/vmberto/Documents/nigep/venv/lib/python3.9/site-packages/sklearn/metrics/_classification.py:1469: UndefinedMetricWarning: Precision and F-score are ill-defined and being set to 0.0 in labels with no predicted samples. Use `zero_division` parameter to control this behavior.\n",
      "  _warn_prf(average, modifier, msg_start, len(result))\n",
      "/Users/vmberto/Documents/nigep/venv/lib/python3.9/site-packages/sklearn/metrics/_classification.py:1469: UndefinedMetricWarning: Precision and F-score are ill-defined and being set to 0.0 in labels with no predicted samples. Use `zero_division` parameter to control this behavior.\n",
      "  _warn_prf(average, modifier, msg_start, len(result))\n",
      "/Users/vmberto/Documents/nigep/venv/lib/python3.9/site-packages/sklearn/metrics/_classification.py:1469: UndefinedMetricWarning: Precision and F-score are ill-defined and being set to 0.0 in labels with no predicted samples. Use `zero_division` parameter to control this behavior.\n",
      "  _warn_prf(average, modifier, msg_start, len(result))\n"
     ]
    },
    {
     "name": "stdout",
     "output_type": "stream",
     "text": [
      "375/375 [==============================] - 0s 685us/step\n",
      "375/375 [==============================] - 0s 682us/step\n"
     ]
    },
    {
     "name": "stderr",
     "output_type": "stream",
     "text": [
      "/Users/vmberto/Documents/nigep/venv/lib/python3.9/site-packages/sklearn/metrics/_classification.py:1469: UndefinedMetricWarning: Precision and F-score are ill-defined and being set to 0.0 in labels with no predicted samples. Use `zero_division` parameter to control this behavior.\n",
      "  _warn_prf(average, modifier, msg_start, len(result))\n",
      "/Users/vmberto/Documents/nigep/venv/lib/python3.9/site-packages/sklearn/metrics/_classification.py:1469: UndefinedMetricWarning: Precision and F-score are ill-defined and being set to 0.0 in labels with no predicted samples. Use `zero_division` parameter to control this behavior.\n",
      "  _warn_prf(average, modifier, msg_start, len(result))\n",
      "/Users/vmberto/Documents/nigep/venv/lib/python3.9/site-packages/sklearn/metrics/_classification.py:1469: UndefinedMetricWarning: Precision and F-score are ill-defined and being set to 0.0 in labels with no predicted samples. Use `zero_division` parameter to control this behavior.\n",
      "  _warn_prf(average, modifier, msg_start, len(result))\n",
      "/Users/vmberto/Documents/nigep/venv/lib/python3.9/site-packages/sklearn/metrics/_classification.py:1469: UndefinedMetricWarning: Precision and F-score are ill-defined and being set to 0.0 in labels with no predicted samples. Use `zero_division` parameter to control this behavior.\n",
      "  _warn_prf(average, modifier, msg_start, len(result))\n",
      "/Users/vmberto/Documents/nigep/venv/lib/python3.9/site-packages/sklearn/metrics/_classification.py:1469: UndefinedMetricWarning: Precision and F-score are ill-defined and being set to 0.0 in labels with no predicted samples. Use `zero_division` parameter to control this behavior.\n",
      "  _warn_prf(average, modifier, msg_start, len(result))\n",
      "/Users/vmberto/Documents/nigep/venv/lib/python3.9/site-packages/sklearn/metrics/_classification.py:1469: UndefinedMetricWarning: Precision and F-score are ill-defined and being set to 0.0 in labels with no predicted samples. Use `zero_division` parameter to control this behavior.\n",
      "  _warn_prf(average, modifier, msg_start, len(result))\n"
     ]
    },
    {
     "name": "stdout",
     "output_type": "stream",
     "text": [
      "375/375 [==============================] - 0s 671us/step\n",
      "375/375 [==============================] - 0s 676us/step\n"
     ]
    },
    {
     "name": "stderr",
     "output_type": "stream",
     "text": [
      "/Users/vmberto/Documents/nigep/venv/lib/python3.9/site-packages/sklearn/metrics/_classification.py:1469: UndefinedMetricWarning: Precision and F-score are ill-defined and being set to 0.0 in labels with no predicted samples. Use `zero_division` parameter to control this behavior.\n",
      "  _warn_prf(average, modifier, msg_start, len(result))\n",
      "/Users/vmberto/Documents/nigep/venv/lib/python3.9/site-packages/sklearn/metrics/_classification.py:1469: UndefinedMetricWarning: Precision and F-score are ill-defined and being set to 0.0 in labels with no predicted samples. Use `zero_division` parameter to control this behavior.\n",
      "  _warn_prf(average, modifier, msg_start, len(result))\n",
      "/Users/vmberto/Documents/nigep/venv/lib/python3.9/site-packages/sklearn/metrics/_classification.py:1469: UndefinedMetricWarning: Precision and F-score are ill-defined and being set to 0.0 in labels with no predicted samples. Use `zero_division` parameter to control this behavior.\n",
      "  _warn_prf(average, modifier, msg_start, len(result))\n",
      "/Users/vmberto/Documents/nigep/venv/lib/python3.9/site-packages/sklearn/metrics/_classification.py:1469: UndefinedMetricWarning: Precision and F-score are ill-defined and being set to 0.0 in labels with no predicted samples. Use `zero_division` parameter to control this behavior.\n",
      "  _warn_prf(average, modifier, msg_start, len(result))\n",
      "/Users/vmberto/Documents/nigep/venv/lib/python3.9/site-packages/sklearn/metrics/_classification.py:1469: UndefinedMetricWarning: Precision and F-score are ill-defined and being set to 0.0 in labels with no predicted samples. Use `zero_division` parameter to control this behavior.\n",
      "  _warn_prf(average, modifier, msg_start, len(result))\n",
      "/Users/vmberto/Documents/nigep/venv/lib/python3.9/site-packages/sklearn/metrics/_classification.py:1469: UndefinedMetricWarning: Precision and F-score are ill-defined and being set to 0.0 in labels with no predicted samples. Use `zero_division` parameter to control this behavior.\n",
      "  _warn_prf(average, modifier, msg_start, len(result))\n"
     ]
    },
    {
     "name": "stdout",
     "output_type": "stream",
     "text": [
      "1350/1350 [==============================] - 5s 3ms/step - loss: 0.2528 - accuracy: 0.9211 - val_loss: 0.1685 - val_accuracy: 0.9477\n",
      "1350/1350 [==============================] - 5s 3ms/step - loss: 0.2540 - accuracy: 0.9202 - val_loss: 0.1761 - val_accuracy: 0.9465\n",
      "375/375 [==============================] - 0s 652us/step\n",
      "375/375 [==============================] - 0s 663us/step\n",
      "375/375 [==============================] - 0s 638us/step\n",
      "375/375 [==============================] - 0s 641us/step\n",
      "375/375 [==============================] - 0s 653us/step\n",
      "375/375 [==============================] - 0s 645us/step\n",
      "375/375 [==============================] - 0s 626us/step\n",
      "375/375 [==============================] - 0s 630us/step\n",
      "375/375 [==============================] - 0s 624us/step\n",
      "375/375 [==============================] - 0s 624us/step\n",
      "375/375 [==============================] - 0s 651us/step\n",
      "375/375 [==============================] - 0s 643us/step\n",
      "375/375 [==============================] - 0s 652us/step\n",
      "375/375 [==============================] - 0s 624us/step\n",
      "375/375 [==============================] - 0s 649us/step\n",
      "375/375 [==============================] - 0s 639us/step\n",
      "375/375 [==============================] - 0s 632us/step\n",
      "375/375 [==============================] - 0s 631us/step\n"
     ]
    },
    {
     "name": "stderr",
     "output_type": "stream",
     "text": [
      "/Users/vmberto/Documents/nigep/venv/lib/python3.9/site-packages/sklearn/metrics/_classification.py:1469: UndefinedMetricWarning: Precision and F-score are ill-defined and being set to 0.0 in labels with no predicted samples. Use `zero_division` parameter to control this behavior.\n",
      "  _warn_prf(average, modifier, msg_start, len(result))\n",
      "/Users/vmberto/Documents/nigep/venv/lib/python3.9/site-packages/sklearn/metrics/_classification.py:1469: UndefinedMetricWarning: Precision and F-score are ill-defined and being set to 0.0 in labels with no predicted samples. Use `zero_division` parameter to control this behavior.\n",
      "  _warn_prf(average, modifier, msg_start, len(result))\n",
      "/Users/vmberto/Documents/nigep/venv/lib/python3.9/site-packages/sklearn/metrics/_classification.py:1469: UndefinedMetricWarning: Precision and F-score are ill-defined and being set to 0.0 in labels with no predicted samples. Use `zero_division` parameter to control this behavior.\n",
      "  _warn_prf(average, modifier, msg_start, len(result))\n",
      "/Users/vmberto/Documents/nigep/venv/lib/python3.9/site-packages/sklearn/metrics/_classification.py:1469: UndefinedMetricWarning: Precision and F-score are ill-defined and being set to 0.0 in labels with no predicted samples. Use `zero_division` parameter to control this behavior.\n",
      "  _warn_prf(average, modifier, msg_start, len(result))\n",
      "/Users/vmberto/Documents/nigep/venv/lib/python3.9/site-packages/sklearn/metrics/_classification.py:1469: UndefinedMetricWarning: Precision and F-score are ill-defined and being set to 0.0 in labels with no predicted samples. Use `zero_division` parameter to control this behavior.\n",
      "  _warn_prf(average, modifier, msg_start, len(result))\n",
      "/Users/vmberto/Documents/nigep/venv/lib/python3.9/site-packages/sklearn/metrics/_classification.py:1469: UndefinedMetricWarning: Precision and F-score are ill-defined and being set to 0.0 in labels with no predicted samples. Use `zero_division` parameter to control this behavior.\n",
      "  _warn_prf(average, modifier, msg_start, len(result))\n"
     ]
    },
    {
     "name": "stdout",
     "output_type": "stream",
     "text": [
      "375/375 [==============================] - 0s 639us/step\n",
      "375/375 [==============================] - 0s 678us/step\n"
     ]
    },
    {
     "name": "stderr",
     "output_type": "stream",
     "text": [
      "/Users/vmberto/Documents/nigep/venv/lib/python3.9/site-packages/sklearn/metrics/_classification.py:1469: UndefinedMetricWarning: Precision and F-score are ill-defined and being set to 0.0 in labels with no predicted samples. Use `zero_division` parameter to control this behavior.\n",
      "  _warn_prf(average, modifier, msg_start, len(result))\n",
      "/Users/vmberto/Documents/nigep/venv/lib/python3.9/site-packages/sklearn/metrics/_classification.py:1469: UndefinedMetricWarning: Precision and F-score are ill-defined and being set to 0.0 in labels with no predicted samples. Use `zero_division` parameter to control this behavior.\n",
      "  _warn_prf(average, modifier, msg_start, len(result))\n",
      "/Users/vmberto/Documents/nigep/venv/lib/python3.9/site-packages/sklearn/metrics/_classification.py:1469: UndefinedMetricWarning: Precision and F-score are ill-defined and being set to 0.0 in labels with no predicted samples. Use `zero_division` parameter to control this behavior.\n",
      "  _warn_prf(average, modifier, msg_start, len(result))\n",
      "/Users/vmberto/Documents/nigep/venv/lib/python3.9/site-packages/sklearn/metrics/_classification.py:1469: UndefinedMetricWarning: Precision and F-score are ill-defined and being set to 0.0 in labels with no predicted samples. Use `zero_division` parameter to control this behavior.\n",
      "  _warn_prf(average, modifier, msg_start, len(result))\n",
      "/Users/vmberto/Documents/nigep/venv/lib/python3.9/site-packages/sklearn/metrics/_classification.py:1469: UndefinedMetricWarning: Precision and F-score are ill-defined and being set to 0.0 in labels with no predicted samples. Use `zero_division` parameter to control this behavior.\n",
      "  _warn_prf(average, modifier, msg_start, len(result))\n",
      "/Users/vmberto/Documents/nigep/venv/lib/python3.9/site-packages/sklearn/metrics/_classification.py:1469: UndefinedMetricWarning: Precision and F-score are ill-defined and being set to 0.0 in labels with no predicted samples. Use `zero_division` parameter to control this behavior.\n",
      "  _warn_prf(average, modifier, msg_start, len(result))\n"
     ]
    },
    {
     "name": "stdout",
     "output_type": "stream",
     "text": [
      "1350/1350 [==============================] - 4s 3ms/step - loss: 0.2401 - accuracy: 0.9230 - val_loss: 0.1719 - val_accuracy: 0.9465\n",
      "1350/1350 [==============================] - 4s 3ms/step - loss: 0.2428 - accuracy: 0.9235 - val_loss: 0.1866 - val_accuracy: 0.9406\n",
      "375/375 [==============================] - 0s 775us/step\n",
      "375/375 [==============================] - 0s 798us/step\n",
      "375/375 [==============================] - 0s 662us/step\n",
      "375/375 [==============================] - 0s 669us/step\n",
      "375/375 [==============================] - 0s 638us/step\n",
      "375/375 [==============================] - 0s 663us/step\n",
      "375/375 [==============================] - 0s 610us/step\n",
      "375/375 [==============================] - 0s 635us/step\n",
      "375/375 [==============================] - 0s 639us/step\n",
      "375/375 [==============================] - 0s 635us/step\n",
      "375/375 [==============================] - 0s 695us/step\n",
      "375/375 [==============================] - 0s 703us/step\n",
      "375/375 [==============================] - 0s 647us/step\n",
      "375/375 [==============================] - 0s 662us/step\n",
      "375/375 [==============================] - 0s 670us/step\n",
      "375/375 [==============================] - 0s 633us/step\n",
      "375/375 [==============================] - 0s 621us/step\n",
      "375/375 [==============================] - 0s 638us/step\n",
      "375/375 [==============================] - 0s 617us/step\n",
      "375/375 [==============================] - 0s 666us/step\n"
     ]
    },
    {
     "name": "stderr",
     "output_type": "stream",
     "text": [
      "/Users/vmberto/Documents/nigep/venv/lib/python3.9/site-packages/sklearn/metrics/_classification.py:1469: UndefinedMetricWarning: Precision and F-score are ill-defined and being set to 0.0 in labels with no predicted samples. Use `zero_division` parameter to control this behavior.\n",
      "  _warn_prf(average, modifier, msg_start, len(result))\n",
      "/Users/vmberto/Documents/nigep/venv/lib/python3.9/site-packages/sklearn/metrics/_classification.py:1469: UndefinedMetricWarning: Precision and F-score are ill-defined and being set to 0.0 in labels with no predicted samples. Use `zero_division` parameter to control this behavior.\n",
      "  _warn_prf(average, modifier, msg_start, len(result))\n",
      "/Users/vmberto/Documents/nigep/venv/lib/python3.9/site-packages/sklearn/metrics/_classification.py:1469: UndefinedMetricWarning: Precision and F-score are ill-defined and being set to 0.0 in labels with no predicted samples. Use `zero_division` parameter to control this behavior.\n",
      "  _warn_prf(average, modifier, msg_start, len(result))\n"
     ]
    },
    {
     "name": "stdout",
     "output_type": "stream",
     "text": [
      "1350/1350 [==============================] - 4s 3ms/step - loss: 0.2500 - accuracy: 0.9181 - val_loss: 0.1859 - val_accuracy: 0.9419\n",
      "1350/1350 [==============================] - 4s 3ms/step - loss: 0.2562 - accuracy: 0.9175 - val_loss: 0.1944 - val_accuracy: 0.9408\n",
      "375/375 [==============================] - 0s 630us/step\n",
      "375/375 [==============================] - 0s 644us/step\n",
      "375/375 [==============================] - 0s 635us/step\n",
      "375/375 [==============================] - 0s 641us/step\n",
      "375/375 [==============================] - 0s 637us/step\n",
      "375/375 [==============================] - 0s 630us/step\n",
      "375/375 [==============================] - 0s 640us/step\n",
      "375/375 [==============================] - 0s 651us/step\n",
      "375/375 [==============================] - 0s 623us/step\n",
      "375/375 [==============================] - 0s 636us/step\n",
      "375/375 [==============================] - 0s 648us/step\n",
      "375/375 [==============================] - 0s 661us/step\n",
      "375/375 [==============================] - 0s 629us/step\n",
      "375/375 [==============================] - 0s 640us/step\n",
      "375/375 [==============================] - 0s 637us/step\n",
      "375/375 [==============================] - 0s 641us/step\n",
      "375/375 [==============================] - 0s 631us/step\n",
      "375/375 [==============================] - 0s 643us/step\n",
      "375/375 [==============================] - 0s 617us/step\n",
      "375/375 [==============================] - 0s 643us/step\n",
      "1350/1350 [==============================] - 4s 3ms/step - loss: 0.2870 - accuracy: 0.9069 - val_loss: 0.2327 - val_accuracy: 0.9221\n",
      "1350/1350 [==============================] - 4s 3ms/step - loss: 0.2809 - accuracy: 0.9079 - val_loss: 0.2411 - val_accuracy: 0.9227\n",
      "375/375 [==============================] - 0s 599us/step\n",
      "375/375 [==============================] - 0s 596us/step\n",
      "375/375 [==============================] - 0s 700us/step\n",
      "375/375 [==============================] - 0s 1ms/step\n",
      "375/375 [==============================] - 0s 633us/step\n",
      "375/375 [==============================] - 0s 573us/step\n",
      "375/375 [==============================] - 0s 581us/step\n",
      "375/375 [==============================] - 0s 581us/step\n",
      "375/375 [==============================] - 0s 576us/step\n",
      "375/375 [==============================] - 0s 581us/step\n",
      "375/375 [==============================] - 0s 666us/step\n",
      "375/375 [==============================] - 0s 654us/step\n",
      "375/375 [==============================] - 0s 615us/step\n",
      "375/375 [==============================] - 0s 586us/step\n",
      "375/375 [==============================] - 0s 657us/step\n",
      "375/375 [==============================] - 0s 604us/step\n",
      "375/375 [==============================] - 0s 597us/step\n",
      "375/375 [==============================] - 0s 651us/step\n",
      "375/375 [==============================] - 0s 612us/step\n",
      "375/375 [==============================] - 0s 655us/step\n",
      "1350/1350 [==============================] - 5s 3ms/step - loss: 0.3260 - accuracy: 0.8921 - val_loss: 0.2706 - val_accuracy: 0.9108\n",
      "1350/1350 [==============================] - 5s 3ms/step - loss: 0.3303 - accuracy: 0.8905 - val_loss: 0.2683 - val_accuracy: 0.9131\n",
      "375/375 [==============================] - 0s 604us/step\n",
      "375/375 [==============================] - 0s 593us/step\n",
      "375/375 [==============================] - 0s 576us/step\n",
      "375/375 [==============================] - 0s 658us/step\n",
      "375/375 [==============================] - 0s 592us/step\n",
      "375/375 [==============================] - 0s 583us/step\n",
      "375/375 [==============================] - 0s 586us/step\n",
      "375/375 [==============================] - 0s 625us/step\n",
      "375/375 [==============================] - 0s 685us/step\n",
      "375/375 [==============================] - 0s 624us/step\n",
      "375/375 [==============================] - 0s 615us/step\n",
      "375/375 [==============================] - 0s 570us/step\n",
      "375/375 [==============================] - 0s 592us/step\n",
      "375/375 [==============================] - 0s 627us/step\n",
      "375/375 [==============================] - 0s 617us/step\n",
      "375/375 [==============================] - 0s 578us/step\n",
      "375/375 [==============================] - 0s 584us/step\n",
      "375/375 [==============================] - 0s 579us/step\n",
      "375/375 [==============================] - 0s 574us/step\n",
      "375/375 [==============================] - 0s 605us/step\n",
      "1350/1350 [==============================] - 4s 3ms/step - loss: 0.3956 - accuracy: 0.8686 - val_loss: 0.3365 - val_accuracy: 0.8927\n",
      "1350/1350 [==============================] - 4s 3ms/step - loss: 0.3874 - accuracy: 0.8719 - val_loss: 0.3356 - val_accuracy: 0.8879\n",
      "375/375 [==============================] - 0s 614us/step\n",
      "375/375 [==============================] - 0s 581us/step\n",
      "375/375 [==============================] - 0s 582us/step\n",
      "375/375 [==============================] - 0s 568us/step\n",
      "375/375 [==============================] - 0s 580us/step\n",
      "375/375 [==============================] - 0s 575us/step\n",
      "375/375 [==============================] - 0s 590us/step\n",
      "375/375 [==============================] - 0s 582us/step\n",
      "375/375 [==============================] - 0s 576us/step\n",
      "375/375 [==============================] - 0s 587us/step\n",
      "375/375 [==============================] - 0s 610us/step\n",
      "375/375 [==============================] - 0s 606us/step\n",
      "375/375 [==============================] - 0s 694us/step\n",
      "375/375 [==============================] - 0s 594us/step\n",
      "375/375 [==============================] - 0s 680us/step\n",
      "375/375 [==============================] - 0s 949us/step\n",
      "375/375 [==============================] - 0s 628us/step\n",
      "375/375 [==============================] - 0s 632us/step\n",
      "375/375 [==============================] - 0s 626us/step\n",
      "375/375 [==============================] - 0s 632us/step\n",
      "1350/1350 [==============================] - 4s 3ms/step - loss: 0.4774 - accuracy: 0.8386 - val_loss: 0.4078 - val_accuracy: 0.8692\n",
      "1350/1350 [==============================] - 4s 3ms/step - loss: 0.4728 - accuracy: 0.8434 - val_loss: 0.4003 - val_accuracy: 0.8675\n",
      "375/375 [==============================] - 0s 642us/step\n",
      "375/375 [==============================] - 0s 684us/step\n",
      "375/375 [==============================] - 0s 596us/step\n",
      "375/375 [==============================] - 0s 626us/step\n",
      "375/375 [==============================] - 0s 600us/step\n",
      "375/375 [==============================] - 0s 635us/step\n",
      "375/375 [==============================] - 0s 623us/step\n",
      "375/375 [==============================] - 0s 581us/step\n",
      "375/375 [==============================] - 0s 595us/step\n",
      "375/375 [==============================] - 0s 581us/step\n",
      "375/375 [==============================] - 0s 573us/step\n",
      "375/375 [==============================] - 0s 571us/step\n",
      "375/375 [==============================] - 0s 571us/step\n",
      "375/375 [==============================] - 0s 592us/step\n",
      "375/375 [==============================] - 0s 564us/step\n",
      "375/375 [==============================] - 0s 566us/step\n",
      "375/375 [==============================] - 0s 580us/step\n",
      "375/375 [==============================] - 0s 585us/step\n",
      "375/375 [==============================] - 0s 586us/step\n",
      "375/375 [==============================] - 0s 638us/step\n",
      "1350/1350 [==============================] - 4s 3ms/step - loss: 0.5730 - accuracy: 0.8078 - val_loss: 0.4941 - val_accuracy: 0.8363\n",
      "1350/1350 [==============================] - 4s 3ms/step - loss: 0.5705 - accuracy: 0.8083 - val_loss: 0.5168 - val_accuracy: 0.8294\n",
      "375/375 [==============================] - 0s 605us/step\n",
      "375/375 [==============================] - 0s 597us/step\n",
      "375/375 [==============================] - 0s 659us/step\n",
      "375/375 [==============================] - 0s 576us/step\n",
      "375/375 [==============================] - 0s 581us/step\n",
      "375/375 [==============================] - 0s 588us/step\n",
      "375/375 [==============================] - 0s 582us/step\n",
      "375/375 [==============================] - 0s 599us/step\n",
      "375/375 [==============================] - 0s 620us/step\n",
      "375/375 [==============================] - 0s 630us/step\n",
      "375/375 [==============================] - 0s 655us/step\n",
      "375/375 [==============================] - 0s 639us/step\n",
      "375/375 [==============================] - 0s 568us/step\n",
      "375/375 [==============================] - 0s 593us/step\n",
      "375/375 [==============================] - 0s 567us/step\n",
      "375/375 [==============================] - 0s 613us/step\n",
      "375/375 [==============================] - 0s 595us/step\n",
      "375/375 [==============================] - 0s 572us/step\n",
      "375/375 [==============================] - 0s 584us/step\n",
      "375/375 [==============================] - 0s 617us/step\n",
      "1350/1350 [==============================] - 5s 3ms/step - loss: 0.6842 - accuracy: 0.7716 - val_loss: 0.5977 - val_accuracy: 0.7992\n",
      "1350/1350 [==============================] - 5s 3ms/step - loss: 0.6905 - accuracy: 0.7670 - val_loss: 0.6238 - val_accuracy: 0.7910\n",
      "375/375 [==============================] - 0s 597us/step\n",
      "375/375 [==============================] - 0s 585us/step\n",
      "375/375 [==============================] - 0s 571us/step\n",
      "375/375 [==============================] - 0s 683us/step\n",
      "375/375 [==============================] - 0s 564us/step\n",
      "375/375 [==============================] - 0s 594us/step\n",
      "375/375 [==============================] - 0s 600us/step\n",
      "375/375 [==============================] - 0s 612us/step\n",
      "375/375 [==============================] - 0s 570us/step\n",
      "375/375 [==============================] - 0s 572us/step\n",
      "375/375 [==============================] - 0s 586us/step\n",
      "375/375 [==============================] - 0s 590us/step\n",
      "375/375 [==============================] - 0s 563us/step\n",
      "375/375 [==============================] - 0s 598us/step\n",
      "375/375 [==============================] - 0s 581us/step\n",
      "375/375 [==============================] - 0s 595us/step\n",
      "375/375 [==============================] - 0s 566us/step\n",
      "375/375 [==============================] - 0s 591us/step\n",
      "375/375 [==============================] - 0s 572us/step\n"
     ]
    },
    {
     "name": "stderr",
     "output_type": "stream",
     "text": [
      "WARNING:absl:At this time, the v2.11+ optimizer `tf.keras.optimizers.AdamW` runs slowly on M1/M2 Macs, please use the legacy Keras optimizer instead, located at `tf.keras.optimizers.legacy.AdamW`.\n",
      "WARNING:absl:Skipping variable loading for optimizer 'AdamW', because it has 13 variables whereas the saved optimizer has 1 variables. \n"
     ]
    },
    {
     "name": "stdout",
     "output_type": "stream",
     "text": [
      "375/375 [==============================] - 0s 609us/step\n",
      "1350/1350 [==============================] - 4s 3ms/step - loss: 0.4180 - accuracy: 0.8842 - val_loss: 0.1892 - val_accuracy: 0.9475\n",
      "375/375 [==============================] - 0s 567us/step\n",
      "375/375 [==============================] - 0s 535us/step\n",
      "375/375 [==============================] - 0s 560us/step\n",
      "375/375 [==============================] - 0s 539us/step\n"
     ]
    },
    {
     "name": "stderr",
     "output_type": "stream",
     "text": [
      "/Users/vmberto/Documents/nigep/venv/lib/python3.9/site-packages/sklearn/metrics/_classification.py:1469: UndefinedMetricWarning: Precision and F-score are ill-defined and being set to 0.0 in labels with no predicted samples. Use `zero_division` parameter to control this behavior.\n",
      "  _warn_prf(average, modifier, msg_start, len(result))\n",
      "/Users/vmberto/Documents/nigep/venv/lib/python3.9/site-packages/sklearn/metrics/_classification.py:1469: UndefinedMetricWarning: Precision and F-score are ill-defined and being set to 0.0 in labels with no predicted samples. Use `zero_division` parameter to control this behavior.\n",
      "  _warn_prf(average, modifier, msg_start, len(result))\n",
      "/Users/vmberto/Documents/nigep/venv/lib/python3.9/site-packages/sklearn/metrics/_classification.py:1469: UndefinedMetricWarning: Precision and F-score are ill-defined and being set to 0.0 in labels with no predicted samples. Use `zero_division` parameter to control this behavior.\n",
      "  _warn_prf(average, modifier, msg_start, len(result))\n"
     ]
    },
    {
     "name": "stdout",
     "output_type": "stream",
     "text": [
      "375/375 [==============================] - 0s 552us/step\n"
     ]
    },
    {
     "name": "stderr",
     "output_type": "stream",
     "text": [
      "/Users/vmberto/Documents/nigep/venv/lib/python3.9/site-packages/sklearn/metrics/_classification.py:1469: UndefinedMetricWarning: Precision and F-score are ill-defined and being set to 0.0 in labels with no predicted samples. Use `zero_division` parameter to control this behavior.\n",
      "  _warn_prf(average, modifier, msg_start, len(result))\n",
      "/Users/vmberto/Documents/nigep/venv/lib/python3.9/site-packages/sklearn/metrics/_classification.py:1469: UndefinedMetricWarning: Precision and F-score are ill-defined and being set to 0.0 in labels with no predicted samples. Use `zero_division` parameter to control this behavior.\n",
      "  _warn_prf(average, modifier, msg_start, len(result))\n",
      "/Users/vmberto/Documents/nigep/venv/lib/python3.9/site-packages/sklearn/metrics/_classification.py:1469: UndefinedMetricWarning: Precision and F-score are ill-defined and being set to 0.0 in labels with no predicted samples. Use `zero_division` parameter to control this behavior.\n",
      "  _warn_prf(average, modifier, msg_start, len(result))\n"
     ]
    },
    {
     "name": "stdout",
     "output_type": "stream",
     "text": [
      "375/375 [==============================] - 0s 544us/step\n"
     ]
    },
    {
     "name": "stderr",
     "output_type": "stream",
     "text": [
      "/Users/vmberto/Documents/nigep/venv/lib/python3.9/site-packages/sklearn/metrics/_classification.py:1469: UndefinedMetricWarning: Precision and F-score are ill-defined and being set to 0.0 in labels with no predicted samples. Use `zero_division` parameter to control this behavior.\n",
      "  _warn_prf(average, modifier, msg_start, len(result))\n",
      "/Users/vmberto/Documents/nigep/venv/lib/python3.9/site-packages/sklearn/metrics/_classification.py:1469: UndefinedMetricWarning: Precision and F-score are ill-defined and being set to 0.0 in labels with no predicted samples. Use `zero_division` parameter to control this behavior.\n",
      "  _warn_prf(average, modifier, msg_start, len(result))\n",
      "/Users/vmberto/Documents/nigep/venv/lib/python3.9/site-packages/sklearn/metrics/_classification.py:1469: UndefinedMetricWarning: Precision and F-score are ill-defined and being set to 0.0 in labels with no predicted samples. Use `zero_division` parameter to control this behavior.\n",
      "  _warn_prf(average, modifier, msg_start, len(result))\n"
     ]
    },
    {
     "name": "stdout",
     "output_type": "stream",
     "text": [
      "375/375 [==============================] - 0s 546us/step\n"
     ]
    },
    {
     "name": "stderr",
     "output_type": "stream",
     "text": [
      "/Users/vmberto/Documents/nigep/venv/lib/python3.9/site-packages/sklearn/metrics/_classification.py:1469: UndefinedMetricWarning: Precision and F-score are ill-defined and being set to 0.0 in labels with no predicted samples. Use `zero_division` parameter to control this behavior.\n",
      "  _warn_prf(average, modifier, msg_start, len(result))\n",
      "/Users/vmberto/Documents/nigep/venv/lib/python3.9/site-packages/sklearn/metrics/_classification.py:1469: UndefinedMetricWarning: Precision and F-score are ill-defined and being set to 0.0 in labels with no predicted samples. Use `zero_division` parameter to control this behavior.\n",
      "  _warn_prf(average, modifier, msg_start, len(result))\n",
      "/Users/vmberto/Documents/nigep/venv/lib/python3.9/site-packages/sklearn/metrics/_classification.py:1469: UndefinedMetricWarning: Precision and F-score are ill-defined and being set to 0.0 in labels with no predicted samples. Use `zero_division` parameter to control this behavior.\n",
      "  _warn_prf(average, modifier, msg_start, len(result))\n"
     ]
    },
    {
     "name": "stdout",
     "output_type": "stream",
     "text": [
      "375/375 [==============================] - 0s 549us/step\n"
     ]
    },
    {
     "name": "stderr",
     "output_type": "stream",
     "text": [
      "/Users/vmberto/Documents/nigep/venv/lib/python3.9/site-packages/sklearn/metrics/_classification.py:1469: UndefinedMetricWarning: Precision and F-score are ill-defined and being set to 0.0 in labels with no predicted samples. Use `zero_division` parameter to control this behavior.\n",
      "  _warn_prf(average, modifier, msg_start, len(result))\n",
      "/Users/vmberto/Documents/nigep/venv/lib/python3.9/site-packages/sklearn/metrics/_classification.py:1469: UndefinedMetricWarning: Precision and F-score are ill-defined and being set to 0.0 in labels with no predicted samples. Use `zero_division` parameter to control this behavior.\n",
      "  _warn_prf(average, modifier, msg_start, len(result))\n",
      "/Users/vmberto/Documents/nigep/venv/lib/python3.9/site-packages/sklearn/metrics/_classification.py:1469: UndefinedMetricWarning: Precision and F-score are ill-defined and being set to 0.0 in labels with no predicted samples. Use `zero_division` parameter to control this behavior.\n",
      "  _warn_prf(average, modifier, msg_start, len(result))\n"
     ]
    },
    {
     "name": "stdout",
     "output_type": "stream",
     "text": [
      "375/375 [==============================] - 0s 554us/step\n"
     ]
    },
    {
     "name": "stderr",
     "output_type": "stream",
     "text": [
      "/Users/vmberto/Documents/nigep/venv/lib/python3.9/site-packages/sklearn/metrics/_classification.py:1469: UndefinedMetricWarning: Precision and F-score are ill-defined and being set to 0.0 in labels with no predicted samples. Use `zero_division` parameter to control this behavior.\n",
      "  _warn_prf(average, modifier, msg_start, len(result))\n",
      "/Users/vmberto/Documents/nigep/venv/lib/python3.9/site-packages/sklearn/metrics/_classification.py:1469: UndefinedMetricWarning: Precision and F-score are ill-defined and being set to 0.0 in labels with no predicted samples. Use `zero_division` parameter to control this behavior.\n",
      "  _warn_prf(average, modifier, msg_start, len(result))\n",
      "/Users/vmberto/Documents/nigep/venv/lib/python3.9/site-packages/sklearn/metrics/_classification.py:1469: UndefinedMetricWarning: Precision and F-score are ill-defined and being set to 0.0 in labels with no predicted samples. Use `zero_division` parameter to control this behavior.\n",
      "  _warn_prf(average, modifier, msg_start, len(result))\n"
     ]
    },
    {
     "name": "stdout",
     "output_type": "stream",
     "text": [
      "375/375 [==============================] - 0s 541us/step\n"
     ]
    },
    {
     "name": "stderr",
     "output_type": "stream",
     "text": [
      "/Users/vmberto/Documents/nigep/venv/lib/python3.9/site-packages/sklearn/metrics/_classification.py:1469: UndefinedMetricWarning: Precision and F-score are ill-defined and being set to 0.0 in labels with no predicted samples. Use `zero_division` parameter to control this behavior.\n",
      "  _warn_prf(average, modifier, msg_start, len(result))\n",
      "/Users/vmberto/Documents/nigep/venv/lib/python3.9/site-packages/sklearn/metrics/_classification.py:1469: UndefinedMetricWarning: Precision and F-score are ill-defined and being set to 0.0 in labels with no predicted samples. Use `zero_division` parameter to control this behavior.\n",
      "  _warn_prf(average, modifier, msg_start, len(result))\n",
      "/Users/vmberto/Documents/nigep/venv/lib/python3.9/site-packages/sklearn/metrics/_classification.py:1469: UndefinedMetricWarning: Precision and F-score are ill-defined and being set to 0.0 in labels with no predicted samples. Use `zero_division` parameter to control this behavior.\n",
      "  _warn_prf(average, modifier, msg_start, len(result))\n"
     ]
    },
    {
     "name": "stdout",
     "output_type": "stream",
     "text": [
      "1350/1350 [==============================] - 3s 2ms/step - loss: 0.2559 - accuracy: 0.9200 - val_loss: 0.1758 - val_accuracy: 0.9475\n",
      "375/375 [==============================] - 0s 553us/step\n",
      "375/375 [==============================] - 0s 539us/step\n",
      "375/375 [==============================] - 0s 581us/step\n",
      "375/375 [==============================] - 0s 529us/step\n",
      "375/375 [==============================] - 0s 530us/step\n",
      "375/375 [==============================] - 0s 589us/step\n",
      "375/375 [==============================] - 0s 637us/step\n",
      "375/375 [==============================] - 0s 596us/step\n"
     ]
    },
    {
     "name": "stderr",
     "output_type": "stream",
     "text": [
      "/Users/vmberto/Documents/nigep/venv/lib/python3.9/site-packages/sklearn/metrics/_classification.py:1469: UndefinedMetricWarning: Precision and F-score are ill-defined and being set to 0.0 in labels with no predicted samples. Use `zero_division` parameter to control this behavior.\n",
      "  _warn_prf(average, modifier, msg_start, len(result))\n",
      "/Users/vmberto/Documents/nigep/venv/lib/python3.9/site-packages/sklearn/metrics/_classification.py:1469: UndefinedMetricWarning: Precision and F-score are ill-defined and being set to 0.0 in labels with no predicted samples. Use `zero_division` parameter to control this behavior.\n",
      "  _warn_prf(average, modifier, msg_start, len(result))\n",
      "/Users/vmberto/Documents/nigep/venv/lib/python3.9/site-packages/sklearn/metrics/_classification.py:1469: UndefinedMetricWarning: Precision and F-score are ill-defined and being set to 0.0 in labels with no predicted samples. Use `zero_division` parameter to control this behavior.\n",
      "  _warn_prf(average, modifier, msg_start, len(result))\n"
     ]
    },
    {
     "name": "stdout",
     "output_type": "stream",
     "text": [
      "375/375 [==============================] - 0s 538us/step\n"
     ]
    },
    {
     "name": "stderr",
     "output_type": "stream",
     "text": [
      "/Users/vmberto/Documents/nigep/venv/lib/python3.9/site-packages/sklearn/metrics/_classification.py:1469: UndefinedMetricWarning: Precision and F-score are ill-defined and being set to 0.0 in labels with no predicted samples. Use `zero_division` parameter to control this behavior.\n",
      "  _warn_prf(average, modifier, msg_start, len(result))\n",
      "/Users/vmberto/Documents/nigep/venv/lib/python3.9/site-packages/sklearn/metrics/_classification.py:1469: UndefinedMetricWarning: Precision and F-score are ill-defined and being set to 0.0 in labels with no predicted samples. Use `zero_division` parameter to control this behavior.\n",
      "  _warn_prf(average, modifier, msg_start, len(result))\n",
      "/Users/vmberto/Documents/nigep/venv/lib/python3.9/site-packages/sklearn/metrics/_classification.py:1469: UndefinedMetricWarning: Precision and F-score are ill-defined and being set to 0.0 in labels with no predicted samples. Use `zero_division` parameter to control this behavior.\n",
      "  _warn_prf(average, modifier, msg_start, len(result))\n"
     ]
    },
    {
     "name": "stdout",
     "output_type": "stream",
     "text": [
      "375/375 [==============================] - 0s 644us/step\n"
     ]
    },
    {
     "name": "stderr",
     "output_type": "stream",
     "text": [
      "/Users/vmberto/Documents/nigep/venv/lib/python3.9/site-packages/sklearn/metrics/_classification.py:1469: UndefinedMetricWarning: Precision and F-score are ill-defined and being set to 0.0 in labels with no predicted samples. Use `zero_division` parameter to control this behavior.\n",
      "  _warn_prf(average, modifier, msg_start, len(result))\n",
      "/Users/vmberto/Documents/nigep/venv/lib/python3.9/site-packages/sklearn/metrics/_classification.py:1469: UndefinedMetricWarning: Precision and F-score are ill-defined and being set to 0.0 in labels with no predicted samples. Use `zero_division` parameter to control this behavior.\n",
      "  _warn_prf(average, modifier, msg_start, len(result))\n",
      "/Users/vmberto/Documents/nigep/venv/lib/python3.9/site-packages/sklearn/metrics/_classification.py:1469: UndefinedMetricWarning: Precision and F-score are ill-defined and being set to 0.0 in labels with no predicted samples. Use `zero_division` parameter to control this behavior.\n",
      "  _warn_prf(average, modifier, msg_start, len(result))\n"
     ]
    },
    {
     "name": "stdout",
     "output_type": "stream",
     "text": [
      "1350/1350 [==============================] - 3s 3ms/step - loss: 0.2439 - accuracy: 0.9233 - val_loss: 0.1862 - val_accuracy: 0.9425\n",
      "375/375 [==============================] - 0s 659us/step\n",
      "375/375 [==============================] - 0s 538us/step\n",
      "375/375 [==============================] - 0s 592us/step\n",
      "375/375 [==============================] - 0s 557us/step\n",
      "375/375 [==============================] - 0s 546us/step\n",
      "375/375 [==============================] - 0s 540us/step\n",
      "375/375 [==============================] - 0s 543us/step\n",
      "375/375 [==============================] - 0s 589us/step\n",
      "375/375 [==============================] - 0s 554us/step\n",
      "375/375 [==============================] - 0s 639us/step\n",
      "1350/1350 [==============================] - 4s 3ms/step - loss: 0.2544 - accuracy: 0.9181 - val_loss: 0.1920 - val_accuracy: 0.9381\n",
      "375/375 [==============================] - 0s 606us/step\n",
      "375/375 [==============================] - 0s 610us/step\n",
      "375/375 [==============================] - 0s 613us/step\n",
      "375/375 [==============================] - 0s 544us/step\n",
      "375/375 [==============================] - 0s 611us/step\n",
      "375/375 [==============================] - 0s 588us/step\n",
      "375/375 [==============================] - 0s 664us/step\n",
      "375/375 [==============================] - 0s 590us/step\n",
      "375/375 [==============================] - 0s 552us/step\n",
      "375/375 [==============================] - 0s 538us/step\n",
      "1350/1350 [==============================] - 3s 3ms/step - loss: 0.2816 - accuracy: 0.9094 - val_loss: 0.2386 - val_accuracy: 0.9258\n",
      "375/375 [==============================] - 0s 728us/step\n",
      "375/375 [==============================] - 0s 603us/step\n",
      "375/375 [==============================] - 0s 604us/step\n",
      "375/375 [==============================] - 0s 548us/step\n",
      "375/375 [==============================] - 0s 546us/step\n",
      "375/375 [==============================] - 0s 605us/step\n",
      "375/375 [==============================] - 0s 541us/step\n",
      "375/375 [==============================] - 0s 585us/step\n",
      "375/375 [==============================] - 0s 607us/step\n",
      "375/375 [==============================] - 0s 584us/step\n",
      "1350/1350 [==============================] - 3s 3ms/step - loss: 0.3239 - accuracy: 0.8947 - val_loss: 0.2711 - val_accuracy: 0.9127\n",
      "375/375 [==============================] - 0s 552us/step\n",
      "375/375 [==============================] - 0s 546us/step\n",
      "375/375 [==============================] - 0s 544us/step\n",
      "375/375 [==============================] - 0s 551us/step\n",
      "375/375 [==============================] - 0s 535us/step\n",
      "375/375 [==============================] - 0s 550us/step\n",
      "375/375 [==============================] - 0s 531us/step\n",
      "375/375 [==============================] - 0s 537us/step\n",
      "375/375 [==============================] - 0s 540us/step\n",
      "375/375 [==============================] - 0s 544us/step\n",
      "1350/1350 [==============================] - 3s 2ms/step - loss: 0.3960 - accuracy: 0.8690 - val_loss: 0.3372 - val_accuracy: 0.8933\n",
      "375/375 [==============================] - 0s 563us/step\n",
      "375/375 [==============================] - 0s 531us/step\n",
      "375/375 [==============================] - 0s 533us/step\n",
      "375/375 [==============================] - 0s 585us/step\n",
      "375/375 [==============================] - 0s 527us/step\n",
      "375/375 [==============================] - 0s 574us/step\n",
      "375/375 [==============================] - 0s 561us/step\n",
      "375/375 [==============================] - 0s 569us/step\n",
      "375/375 [==============================] - 0s 541us/step\n",
      "375/375 [==============================] - 0s 565us/step\n",
      "1350/1350 [==============================] - 3s 2ms/step - loss: 0.4649 - accuracy: 0.8441 - val_loss: 0.4320 - val_accuracy: 0.8596\n",
      "375/375 [==============================] - 0s 600us/step\n",
      "375/375 [==============================] - 0s 559us/step\n",
      "375/375 [==============================] - 0s 557us/step\n",
      "375/375 [==============================] - 0s 555us/step\n",
      "375/375 [==============================] - 0s 543us/step\n",
      "375/375 [==============================] - 0s 570us/step\n",
      "375/375 [==============================] - 0s 579us/step\n",
      "375/375 [==============================] - 0s 538us/step\n",
      "375/375 [==============================] - 0s 559us/step\n",
      "375/375 [==============================] - 0s 576us/step\n",
      "1350/1350 [==============================] - 4s 3ms/step - loss: 0.5725 - accuracy: 0.8094 - val_loss: 0.4891 - val_accuracy: 0.8365\n",
      "375/375 [==============================] - 0s 570us/step\n",
      "375/375 [==============================] - 0s 588us/step\n",
      "375/375 [==============================] - 0s 666us/step\n",
      "375/375 [==============================] - 0s 566us/step\n",
      "375/375 [==============================] - 0s 556us/step\n",
      "375/375 [==============================] - 0s 573us/step\n",
      "375/375 [==============================] - 0s 571us/step\n",
      "375/375 [==============================] - 0s 563us/step\n",
      "375/375 [==============================] - 0s 614us/step\n",
      "375/375 [==============================] - 0s 600us/step\n",
      "1350/1350 [==============================] - 4s 3ms/step - loss: 0.6836 - accuracy: 0.7721 - val_loss: 0.6029 - val_accuracy: 0.7944\n",
      "375/375 [==============================] - 0s 626us/step\n",
      "375/375 [==============================] - 0s 624us/step\n",
      "375/375 [==============================] - 0s 549us/step\n",
      "375/375 [==============================] - 0s 572us/step\n",
      "375/375 [==============================] - 0s 560us/step\n",
      "375/375 [==============================] - 0s 595us/step\n",
      "375/375 [==============================] - 0s 650us/step\n",
      "375/375 [==============================] - 0s 559us/step\n",
      "375/375 [==============================] - 0s 551us/step\n",
      "375/375 [==============================] - 0s 540us/step\n"
     ]
    }
   ],
   "source": [
    "lr_reduce = ReduceLROnPlateau(monitor='val_loss', factor=0.1, min_delta=0.001, patience=5, verbose=1)\n",
    "erl_stopping = EarlyStopping(patience=4, monitor='val_loss', verbose=1)\n",
    "callbacks = [erl_stopping, lr_reduce]\n",
    "\n",
    "nigep = Nigep(\n",
    "    execution_name='parallel',\n",
    "    x_data=X_train,\n",
    "    y_data=y_train_one_hot,\n",
    "    model=model,\n",
    "    batch_size=128,\n",
    "    input_shape=INPUT_DIMS,\n",
    "    class_mode='categorical',\n",
    "    k_fold_n=5,\n",
    "    target_names=['0', '1', '2', '3', '4', '5', '6', '7', '8', '9'],\n",
    "    epochs=1,\n",
    ")\n",
    "\n",
    "nigep.fit()"
   ],
   "metadata": {
    "collapsed": false,
    "ExecuteTime": {
     "end_time": "2023-12-07T15:46:29.508346Z",
     "start_time": "2023-12-07T15:40:54.035467Z"
    }
   },
   "id": "3506819680e494b3"
  },
  {
   "cell_type": "code",
   "execution_count": 6,
   "outputs": [
    {
     "data": {
      "text/plain": "<Figure size 800x600 with 2 Axes>",
      "image/png": "[encoded data removed]"
     },
     "metadata": {},
     "output_type": "display_data"
    }
   ],
   "source": [
    "nigep.plot_and_save_generalization_profile()"
   ],
   "metadata": {
    "collapsed": false,
    "ExecuteTime": {
     "end_time": "2023-12-07T15:46:29.891377Z",
     "start_time": "2023-12-07T15:46:29.513887Z"
    }
   },
   "id": "84ac0cd8b1f25a34"
  }
 ],
 "metadata": {
  "kernelspec": {
   "display_name": "Python 3 (ipykernel)",
   "language": "python",
   "name": "python3"
  },
  "language_info": {
   "codemirror_mode": {
    "name": "ipython",
    "version": 3
   },
   "file_extension": ".py",
   "mimetype": "text/x-python",
   "name": "python",
   "nbconvert_exporter": "python",
   "pygments_lexer": "ipython3",
   "version": "3.9.6"
  }
 },
 "nbformat": 4,
 "nbformat_minor": 5
}
