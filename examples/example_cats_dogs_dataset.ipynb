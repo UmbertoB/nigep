{
 "cells": [
  {
   "cell_type": "code",
   "execution_count": 2,
   "id": "initial_id",
   "metadata": {
    "ExecuteTime": {
     "end_time": "2023-11-30T03:30:54.642318Z",
     "start_time": "2023-11-30T03:30:50.898634Z"
    }
   },
   "outputs": [
    {
     "name": "stderr",
     "output_type": "stream",
     "text": [
      "/Users/vmberto/Documents/nigep/src/nigep/builders/metrics_builder.py:8: SyntaxWarning: \"is\" with a literal. Did you mean \"==\"?\n",
      "  if class_mode is 'binary':\n"
     ]
    }
   ],
   "source": [
    "from keras.utils import get_file\n",
    "import os\n",
    "import pandas as pd\n",
    "from keras.layers import Flatten, Dense, Conv2D, MaxPooling2D, Dropout\n",
    "from keras.models import Sequential, Model\n",
    "from src.nigep import Nigep\n",
    "import zipfile\n"
   ]
  },
  {
   "cell_type": "code",
   "execution_count": 10,
   "id": "c4da2f90e8f04c37",
   "metadata": {
    "ExecuteTime": {
     "end_time": "2023-11-22T22:30:13.871927Z",
     "start_time": "2023-11-22T22:30:08.726579Z"
    },
    "collapsed": false
   },
   "outputs": [
    {
     "name": "stdout",
     "output_type": "stream",
     "text": [
      "Downloading data from https://storage.googleapis.com/mledu-datasets/cats_and_dogs_filtered.zip\n",
      "68606236/68606236 [==============================] - 4s 0us/step\n"
     ]
    }
   ],
   "source": [
    "dataset_url = \"https://storage.googleapis.com/mledu-datasets/cats_and_dogs_filtered.zip\"\n",
    "data_dir = get_file(\n",
    "    origin=dataset_url, fname=\"dog_cat.zip\", cache_dir='.'\n",
    ")\n",
    "with zipfile.ZipFile('./datasets/dog_cat.zip', 'r') as zip_ref:\n",
    "    zip_ref.extractall('./datasets')\n",
    "\n",
    "folders = ['train', 'validation']\n",
    "classes = ['cats', 'dogs']\n",
    "path = r'./datasets/cats_and_dogs_filtered'\n",
    "mixed_path = r'./dataset/default'\n",
    "\n",
    "list_of_text = []\n",
    "\n",
    "for folder in folders:\n",
    "  for classs in classes:\n",
    "    for file in os.listdir(f'{path}/{folder}/{classs}'):\n",
    "        list_of_text.append((f'{mixed_path}/{file}', classs))\n",
    "\n",
    "df = pd.DataFrame(list_of_text, columns = ['x_data', 'y_data'])\n",
    "df.to_csv(os.path.join('./datasets', 'dataframe.csv'))"
   ]
  },
  {
   "cell_type": "code",
   "execution_count": 11,
   "id": "2b3d5adf2be17ed1",
   "metadata": {
    "ExecuteTime": {
     "end_time": "2023-11-22T22:30:15.494521Z",
     "start_time": "2023-11-22T22:30:13.878393Z"
    },
    "collapsed": false
   },
   "outputs": [
    {
     "name": "stdout",
     "output_type": "stream",
     "text": [
      "mkdir: ./dataset: File exists\n"
     ]
    }
   ],
   "source": [
    "! mkdir ./datasets/default\n",
    "! mv ./datasets/cats_and_dogs_filtered/train/dogs/* ./datasets/default\n",
    "! mv ./datasets/cats_and_dogs_filtered/validation/dogs/* ./datasets/default\n",
    "! mv ./datasets/cats_and_dogs_filtered/train/cats/* ./datasets/default\n",
    "! mv ./datasets/cats_and_dogs_filtered/validation/cats/* ./datasets/default\n",
    "! rm -rf ./datasets/cats_and_dogs_filtered\n",
    "\n",
    "# Temporary\n",
    "! mkdir ./dataset\n",
    "! mv ./datasets/* ./dataset\n",
    "! rm -rf ./datasets\n",
    "! rm -rf ./dataset/dog_cat.zip"
   ]
  },
  {
   "cell_type": "code",
   "execution_count": 18,
   "id": "6444ef153d85b76a",
   "metadata": {
    "collapsed": false,
    "ExecuteTime": {
     "end_time": "2023-11-30T03:43:16.108305Z",
     "start_time": "2023-11-30T03:43:15.981325Z"
    }
   },
   "outputs": [
    {
     "name": "stdout",
     "output_type": "stream",
     "text": [
      "Model: \"sequential_15\"\n",
      "_________________________________________________________________\n",
      " Layer (type)                Output Shape              Param #   \n",
      "=================================================================\n",
      " dense_30 (Dense)            (None, 200, 128)          25728     \n",
      "                                                                 \n",
      " dense_31 (Dense)            (None, 200, 1)            129       \n",
      "                                                                 \n",
      "=================================================================\n",
      "Total params: 25857 (101.00 KB)\n",
      "Trainable params: 25857 (101.00 KB)\n",
      "Non-trainable params: 0 (0.00 Byte)\n",
      "_________________________________________________________________\n",
      "Found 2160 validated image filenames belonging to 2 classes.\n",
      "Found 240 validated image filenames belonging to 2 classes.\n",
      "Epoch 1/10\n"
     ]
    },
    {
     "name": "stderr",
     "output_type": "stream",
     "text": [
      "  File \"/Users/vmberto/Documents/nigep/src/nigep/nigep.py\", line 97, in execute\n",
      "    self.__train_and_evaluate()\n",
      "  File \"/Users/vmberto/Documents/nigep/src/nigep/nigep.py\", line 67, in __train_and_evaluate\n",
      "    model_builder.train_model_for_dataset(self.model, self.epochs, self.callbacks, train_gen, val_gen)\n",
      "  File \"/Users/vmberto/Documents/nigep/src/nigep/builders/model_builder.py\", line 8, in train_model_for_dataset\n",
      "    history = model.fit(\n",
      "  File \"/Users/vmberto/Documents/nigep/venv/lib/python3.9/site-packages/keras/src/utils/traceback_utils.py\", line 70, in error_handler\n",
      "    raise e.with_traceback(filtered_tb) from None\n",
      "  File \"/var/folders/8b/mfdxqm9d2nz91q6n0c7srzq00000gn/T/__autograph_generated_filezb70dqav.py\", line 15, in tf__train_function\n",
      "    retval_ = ag__.converted_call(ag__.ld(step_function), (ag__.ld(self), ag__.ld(iterator)), None, fscope)\n"
     ]
    }
   ],
   "source": [
    "model = Sequential([\n",
    "  Dense(128, activation='relu', input_shape=(200,200)),\n",
    "  Dense(1, activation=\"sigmoid\"),\n",
    "])\n",
    "\n",
    "\n",
    "alpha = 1e-3\n",
    "\n",
    "model.build()\n",
    "model.summary()\n",
    "model.compile(optimizer='adam', loss='binary_crossentropy', metrics=['accuracy'])\n",
    "\n",
    "dataframe = pd.read_csv('./dataset/dataframe.csv')\n",
    "x_data = dataframe['x_data']\n",
    "y_data = dataframe['y_data']\n",
    "\n",
    "\n",
    "nigep = Nigep(\n",
    "    execution_name='cats_dogs',\n",
    "    model=model,\n",
    "    batch_size=32,\n",
    "    input_shape=(200, 200),\n",
    "    x_data=x_data,\n",
    "    y_data=y_data,\n",
    "    class_mode='binary',\n",
    "    k_fold_n=5,\n",
    "    target_names=['cats', 'dogs'],\n",
    "    epochs=10,\n",
    "  )\n",
    "\n",
    "nigep.execute()"
   ]
  },
  {
   "cell_type": "code",
   "execution_count": 9,
   "id": "f5e7f8b9-df55-429b-bc1d-979398b501f8",
   "metadata": {
    "ExecuteTime": {
     "end_time": "2023-11-30T03:35:52.420738Z",
     "start_time": "2023-11-30T03:35:52.416928Z"
    }
   },
   "outputs": [],
   "source": []
  },
  {
   "cell_type": "code",
   "execution_count": null,
   "outputs": [],
   "source": [],
   "metadata": {
    "collapsed": false
   },
   "id": "1bdac0cdd60c9c5f"
  }
 ],
 "metadata": {
  "kernelspec": {
   "display_name": "Python 3 (ipykernel)",
   "language": "python",
   "name": "python3"
  },
  "language_info": {
   "codemirror_mode": {
    "name": "ipython",
    "version": 3
   },
   "file_extension": ".py",
   "mimetype": "text/x-python",
   "name": "python",
   "nbconvert_exporter": "python",
   "pygments_lexer": "ipython3",
   "version": "3.9.6"
  }
 },
 "nbformat": 4,
 "nbformat_minor": 5
}
