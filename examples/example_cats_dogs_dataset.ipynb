{
 "cells": [
  {
   "cell_type": "code",
   "execution_count": 2,
   "id": "initial_id",
   "metadata": {
    "ExecuteTime": {
     "end_time": "2023-12-01T23:18:55.547904Z",
     "start_time": "2023-12-01T23:18:52.594898Z"
    }
   },
   "outputs": [],
   "source": [
    "from keras.utils import get_file\n",
    "import os\n",
    "import pandas as pd\n",
    "from keras.layers import Dense\n",
    "from keras.models import Sequential\n",
    "from src.nigep import Nigep\n",
    "import zipfile"
   ]
  },
  {
   "cell_type": "code",
   "execution_count": 10,
   "id": "c4da2f90e8f04c37",
   "metadata": {
    "ExecuteTime": {
     "end_time": "2023-11-22T22:30:13.871927Z",
     "start_time": "2023-11-22T22:30:08.726579Z"
    },
    "collapsed": false
   },
   "outputs": [
    {
     "name": "stdout",
     "output_type": "stream",
     "text": [
      "Downloading data from https://storage.googleapis.com/mledu-datasets/cats_and_dogs_filtered.zip\n",
      "68606236/68606236 [==============================] - 4s 0us/step\n"
     ]
    }
   ],
   "source": [
    "dataset_url = \"https://storage.googleapis.com/mledu-datasets/cats_and_dogs_filtered.zip\"\n",
    "data_dir = get_file(\n",
    "    origin=dataset_url, fname=\"dog_cat.zip\", cache_dir='.'\n",
    ")\n",
    "with zipfile.ZipFile('./datasets/dog_cat.zip', 'r') as zip_ref:\n",
    "    zip_ref.extractall('./datasets')\n",
    "\n",
    "folders = ['train', 'validation']\n",
    "classes = ['cats', 'dogs']\n",
    "path = r'./datasets/cats_and_dogs_filtered'\n",
    "mixed_path = r'./dataset/default'\n",
    "\n",
    "list_of_text = []\n",
    "\n",
    "for folder in folders:\n",
    "  for classs in classes:\n",
    "    for file in os.listdir(f'{path}/{folder}/{classs}'):\n",
    "        list_of_text.append((f'{mixed_path}/{file}', classs))\n",
    "\n",
    "df = pd.DataFrame(list_of_text, columns = ['x_data', 'y_data'])\n",
    "df.to_csv(os.path.join('./datasets', 'dataframe.csv'))"
   ]
  },
  {
   "cell_type": "code",
   "execution_count": 11,
   "id": "2b3d5adf2be17ed1",
   "metadata": {
    "ExecuteTime": {
     "end_time": "2023-11-22T22:30:15.494521Z",
     "start_time": "2023-11-22T22:30:13.878393Z"
    },
    "collapsed": false
   },
   "outputs": [
    {
     "name": "stdout",
     "output_type": "stream",
     "text": [
      "mkdir: ./dataset: File exists\n"
     ]
    }
   ],
   "source": [
    "! mkdir ./datasets/default\n",
    "! mv ./datasets/cats_and_dogs_filtered/train/dogs/* ./datasets/default\n",
    "! mv ./datasets/cats_and_dogs_filtered/validation/dogs/* ./datasets/default\n",
    "! mv ./datasets/cats_and_dogs_filtered/train/cats/* ./datasets/default\n",
    "! mv ./datasets/cats_and_dogs_filtered/validation/cats/* ./datasets/default\n",
    "! rm -rf ./datasets/cats_and_dogs_filtered\n",
    "\n",
    "# Temporary\n",
    "! mkdir ./dataset\n",
    "! mv ./datasets/* ./dataset\n",
    "! rm -rf ./datasets\n",
    "! rm -rf ./dataset/dog_cat.zip"
   ]
  },
  {
   "cell_type": "code",
   "execution_count": 3,
   "id": "6444ef153d85b76a",
   "metadata": {
    "collapsed": false,
    "ExecuteTime": {
     "end_time": "2023-12-01T23:18:59.121720Z",
     "start_time": "2023-12-01T23:18:58.633393Z"
    }
   },
   "outputs": [
    {
     "name": "stdout",
     "output_type": "stream",
     "text": [
      "Model: \"sequential\"\n",
      "_________________________________________________________________\n",
      " Layer (type)                Output Shape              Param #   \n",
      "=================================================================\n",
      " dense (Dense)               (None, 200, 128)          25728     \n",
      "                                                                 \n",
      " dense_1 (Dense)             (None, 200, 1)            129       \n",
      "                                                                 \n",
      "=================================================================\n",
      "Total params: 25857 (101.00 KB)\n",
      "Trainable params: 25857 (101.00 KB)\n",
      "Non-trainable params: 0 (0.00 Byte)\n",
      "_________________________________________________________________\n",
      "Found 2160 validated image filenames belonging to 2 classes.\n",
      "Found 240 validated image filenames belonging to 2 classes.\n",
      "Epoch 1/10\n"
     ]
    },
    {
     "ename": "ValueError",
     "evalue": "in user code:\n\n    File \"/Users/vmberto/Documents/nigep/venv/lib/python3.9/site-packages/keras/src/engine/training.py\", line 1377, in train_function  *\n        return step_function(self, iterator)\n    File \"/Users/vmberto/Documents/nigep/venv/lib/python3.9/site-packages/keras/src/engine/training.py\", line 1360, in step_function  **\n        outputs = model.distribute_strategy.run(run_step, args=(data,))\n    File \"/Users/vmberto/Documents/nigep/venv/lib/python3.9/site-packages/keras/src/engine/training.py\", line 1349, in run_step  **\n        outputs = model.train_step(data)\n    File \"/Users/vmberto/Documents/nigep/venv/lib/python3.9/site-packages/keras/src/engine/training.py\", line 1127, in train_step\n        loss = self.compute_loss(x, y, y_pred, sample_weight)\n    File \"/Users/vmberto/Documents/nigep/venv/lib/python3.9/site-packages/keras/src/engine/training.py\", line 1185, in compute_loss\n        return self.compiled_loss(\n    File \"/Users/vmberto/Documents/nigep/venv/lib/python3.9/site-packages/keras/src/engine/compile_utils.py\", line 277, in __call__\n        loss_value = loss_obj(y_t, y_p, sample_weight=sw)\n    File \"/Users/vmberto/Documents/nigep/venv/lib/python3.9/site-packages/keras/src/losses.py\", line 143, in __call__\n        losses = call_fn(y_true, y_pred)\n    File \"/Users/vmberto/Documents/nigep/venv/lib/python3.9/site-packages/keras/src/losses.py\", line 270, in call  **\n        return ag_fn(y_true, y_pred, **self._fn_kwargs)\n    File \"/Users/vmberto/Documents/nigep/venv/lib/python3.9/site-packages/keras/src/losses.py\", line 2532, in binary_crossentropy\n        backend.binary_crossentropy(y_true, y_pred, from_logits=from_logits),\n    File \"/Users/vmberto/Documents/nigep/venv/lib/python3.9/site-packages/keras/src/backend.py\", line 5824, in binary_crossentropy\n        return tf.nn.sigmoid_cross_entropy_with_logits(\n\n    ValueError: `logits` and `labels` must have the same shape, received ((None, None, None, 1) vs (None,)).\n",
     "output_type": "error",
     "traceback": [
      "\u001B[0;31m---------------------------------------------------------------------------\u001B[0m",
      "\u001B[0;31mValueError\u001B[0m                                Traceback (most recent call last)",
      "Cell \u001B[0;32mIn[3], line 31\u001B[0m\n\u001B[1;32m     15\u001B[0m y_data \u001B[38;5;241m=\u001B[39m dataframe[\u001B[38;5;124m'\u001B[39m\u001B[38;5;124my_data\u001B[39m\u001B[38;5;124m'\u001B[39m]\n\u001B[1;32m     18\u001B[0m nigep \u001B[38;5;241m=\u001B[39m Nigep(\n\u001B[1;32m     19\u001B[0m     execution_name\u001B[38;5;241m=\u001B[39m\u001B[38;5;124m'\u001B[39m\u001B[38;5;124mcats_dogs\u001B[39m\u001B[38;5;124m'\u001B[39m,\n\u001B[1;32m     20\u001B[0m     model\u001B[38;5;241m=\u001B[39mmodel,\n\u001B[0;32m   (...)\u001B[0m\n\u001B[1;32m     28\u001B[0m     epochs\u001B[38;5;241m=\u001B[39m\u001B[38;5;241m10\u001B[39m,\n\u001B[1;32m     29\u001B[0m   )\n\u001B[0;32m---> 31\u001B[0m \u001B[43mnigep\u001B[49m\u001B[38;5;241;43m.\u001B[39;49m\u001B[43mexecute\u001B[49m\u001B[43m(\u001B[49m\u001B[43m)\u001B[49m\n",
      "File \u001B[0;32m~/Documents/nigep/src/nigep/nigep.py:89\u001B[0m, in \u001B[0;36mNigep.execute\u001B[0;34m(self)\u001B[0m\n\u001B[1;32m     86\u001B[0m \u001B[38;5;28;01mif\u001B[39;00m \u001B[38;5;129;01mnot\u001B[39;00m noisy_datasets_already_exists(\u001B[38;5;28mself\u001B[39m\u001B[38;5;241m.\u001B[39mnoise_levels):\n\u001B[1;32m     87\u001B[0m     \u001B[38;5;28mself\u001B[39m\u001B[38;5;241m.\u001B[39m__generate_noisy_datasets()\n\u001B[0;32m---> 89\u001B[0m \u001B[38;5;28;43mself\u001B[39;49m\u001B[38;5;241;43m.\u001B[39;49m\u001B[43m__train_and_evaluate\u001B[49m\u001B[43m(\u001B[49m\u001B[43m)\u001B[49m\n",
      "File \u001B[0;32m~/Documents/nigep/src/nigep/nigep.py:56\u001B[0m, in \u001B[0;36mNigep.__train_and_evaluate\u001B[0;34m(self)\u001B[0m\n\u001B[1;32m     46\u001B[0m \u001B[38;5;28;01mfor\u001B[39;00m noise_amount \u001B[38;5;129;01min\u001B[39;00m \u001B[38;5;28mself\u001B[39m\u001B[38;5;241m.\u001B[39mnoise_levels:\n\u001B[1;32m     48\u001B[0m     train_gen, val_gen \u001B[38;5;241m=\u001B[39m get_train_generator(\u001B[38;5;28mself\u001B[39m\u001B[38;5;241m.\u001B[39mx_data,\n\u001B[1;32m     49\u001B[0m                                              \u001B[38;5;28mself\u001B[39m\u001B[38;5;241m.\u001B[39my_data,\n\u001B[1;32m     50\u001B[0m                                              \u001B[38;5;28mself\u001B[39m\u001B[38;5;241m.\u001B[39mbatch_size,\n\u001B[0;32m   (...)\u001B[0m\n\u001B[1;32m     53\u001B[0m                                              noise_amount,\n\u001B[1;32m     54\u001B[0m                                              train_index)\n\u001B[0;32m---> 56\u001B[0m     \u001B[43mmodel_builder\u001B[49m\u001B[38;5;241;43m.\u001B[39;49m\u001B[43mtrain_model_for_dataset\u001B[49m\u001B[43m(\u001B[49m\u001B[38;5;28;43mself\u001B[39;49m\u001B[38;5;241;43m.\u001B[39;49m\u001B[43mmodel\u001B[49m\u001B[43m,\u001B[49m\n\u001B[1;32m     57\u001B[0m \u001B[43m                                          \u001B[49m\u001B[38;5;28;43mself\u001B[39;49m\u001B[38;5;241;43m.\u001B[39;49m\u001B[43mepochs\u001B[49m\u001B[43m,\u001B[49m\n\u001B[1;32m     58\u001B[0m \u001B[43m                                          \u001B[49m\u001B[38;5;28;43mself\u001B[39;49m\u001B[38;5;241;43m.\u001B[39;49m\u001B[43mcallbacks\u001B[49m\u001B[43m,\u001B[49m\n\u001B[1;32m     59\u001B[0m \u001B[43m                                          \u001B[49m\u001B[43mtrain_gen\u001B[49m\u001B[43m,\u001B[49m\n\u001B[1;32m     60\u001B[0m \u001B[43m                                          \u001B[49m\u001B[43mval_gen\u001B[49m\u001B[43m)\u001B[49m\n\u001B[1;32m     62\u001B[0m     \u001B[38;5;28;01mif\u001B[39;00m \u001B[38;5;28mself\u001B[39m\u001B[38;5;241m.\u001B[39mwrite_trained_models:\n\u001B[1;32m     63\u001B[0m         rw\u001B[38;5;241m.\u001B[39mwrite_model(\u001B[38;5;28mself\u001B[39m\u001B[38;5;241m.\u001B[39mmodel, noise_amount)\n",
      "File \u001B[0;32m~/Documents/nigep/src/nigep/builders/model_builder.py:8\u001B[0m, in \u001B[0;36mtrain_model_for_dataset\u001B[0;34m(model, epochs, callbacks, train_generator, validation_generator)\u001B[0m\n\u001B[1;32m      5\u001B[0m \u001B[38;5;28;01mif\u001B[39;00m callbacks \u001B[38;5;129;01mis\u001B[39;00m \u001B[38;5;28;01mNone\u001B[39;00m:\n\u001B[1;32m      6\u001B[0m     callbacks \u001B[38;5;241m=\u001B[39m []\n\u001B[0;32m----> 8\u001B[0m history \u001B[38;5;241m=\u001B[39m \u001B[43mmodel\u001B[49m\u001B[38;5;241;43m.\u001B[39;49m\u001B[43mfit\u001B[49m\u001B[43m(\u001B[49m\n\u001B[1;32m      9\u001B[0m \u001B[43m    \u001B[49m\u001B[43mtrain_generator\u001B[49m\u001B[43m,\u001B[49m\n\u001B[1;32m     10\u001B[0m \u001B[43m    \u001B[49m\u001B[43mvalidation_data\u001B[49m\u001B[38;5;241;43m=\u001B[39;49m\u001B[43mvalidation_generator\u001B[49m\u001B[43m,\u001B[49m\n\u001B[1;32m     11\u001B[0m \u001B[43m    \u001B[49m\u001B[43mcallbacks\u001B[49m\u001B[38;5;241;43m=\u001B[39;49m\u001B[43mcallbacks\u001B[49m\u001B[43m,\u001B[49m\n\u001B[1;32m     12\u001B[0m \u001B[43m    \u001B[49m\u001B[43mepochs\u001B[49m\u001B[38;5;241;43m=\u001B[39;49m\u001B[43mepochs\u001B[49m\n\u001B[1;32m     13\u001B[0m \u001B[43m\u001B[49m\u001B[43m)\u001B[49m\n\u001B[1;32m     15\u001B[0m \u001B[38;5;28;01mreturn\u001B[39;00m history\n",
      "File \u001B[0;32m~/Documents/nigep/venv/lib/python3.9/site-packages/keras/src/utils/traceback_utils.py:70\u001B[0m, in \u001B[0;36mfilter_traceback.<locals>.error_handler\u001B[0;34m(*args, **kwargs)\u001B[0m\n\u001B[1;32m     67\u001B[0m     filtered_tb \u001B[38;5;241m=\u001B[39m _process_traceback_frames(e\u001B[38;5;241m.\u001B[39m__traceback__)\n\u001B[1;32m     68\u001B[0m     \u001B[38;5;66;03m# To get the full stack trace, call:\u001B[39;00m\n\u001B[1;32m     69\u001B[0m     \u001B[38;5;66;03m# `tf.debugging.disable_traceback_filtering()`\u001B[39;00m\n\u001B[0;32m---> 70\u001B[0m     \u001B[38;5;28;01mraise\u001B[39;00m e\u001B[38;5;241m.\u001B[39mwith_traceback(filtered_tb) \u001B[38;5;28;01mfrom\u001B[39;00m \u001B[38;5;28;01mNone\u001B[39;00m\n\u001B[1;32m     71\u001B[0m \u001B[38;5;28;01mfinally\u001B[39;00m:\n\u001B[1;32m     72\u001B[0m     \u001B[38;5;28;01mdel\u001B[39;00m filtered_tb\n",
      "File \u001B[0;32m/var/folders/8b/mfdxqm9d2nz91q6n0c7srzq00000gn/T/__autograph_generated_fileunf26bo0.py:15\u001B[0m, in \u001B[0;36mouter_factory.<locals>.inner_factory.<locals>.tf__train_function\u001B[0;34m(iterator)\u001B[0m\n\u001B[1;32m     13\u001B[0m \u001B[38;5;28;01mtry\u001B[39;00m:\n\u001B[1;32m     14\u001B[0m     do_return \u001B[38;5;241m=\u001B[39m \u001B[38;5;28;01mTrue\u001B[39;00m\n\u001B[0;32m---> 15\u001B[0m     retval_ \u001B[38;5;241m=\u001B[39m ag__\u001B[38;5;241m.\u001B[39mconverted_call(ag__\u001B[38;5;241m.\u001B[39mld(step_function), (ag__\u001B[38;5;241m.\u001B[39mld(\u001B[38;5;28mself\u001B[39m), ag__\u001B[38;5;241m.\u001B[39mld(iterator)), \u001B[38;5;28;01mNone\u001B[39;00m, fscope)\n\u001B[1;32m     16\u001B[0m \u001B[38;5;28;01mexcept\u001B[39;00m:\n\u001B[1;32m     17\u001B[0m     do_return \u001B[38;5;241m=\u001B[39m \u001B[38;5;28;01mFalse\u001B[39;00m\n",
      "\u001B[0;31mValueError\u001B[0m: in user code:\n\n    File \"/Users/vmberto/Documents/nigep/venv/lib/python3.9/site-packages/keras/src/engine/training.py\", line 1377, in train_function  *\n        return step_function(self, iterator)\n    File \"/Users/vmberto/Documents/nigep/venv/lib/python3.9/site-packages/keras/src/engine/training.py\", line 1360, in step_function  **\n        outputs = model.distribute_strategy.run(run_step, args=(data,))\n    File \"/Users/vmberto/Documents/nigep/venv/lib/python3.9/site-packages/keras/src/engine/training.py\", line 1349, in run_step  **\n        outputs = model.train_step(data)\n    File \"/Users/vmberto/Documents/nigep/venv/lib/python3.9/site-packages/keras/src/engine/training.py\", line 1127, in train_step\n        loss = self.compute_loss(x, y, y_pred, sample_weight)\n    File \"/Users/vmberto/Documents/nigep/venv/lib/python3.9/site-packages/keras/src/engine/training.py\", line 1185, in compute_loss\n        return self.compiled_loss(\n    File \"/Users/vmberto/Documents/nigep/venv/lib/python3.9/site-packages/keras/src/engine/compile_utils.py\", line 277, in __call__\n        loss_value = loss_obj(y_t, y_p, sample_weight=sw)\n    File \"/Users/vmberto/Documents/nigep/venv/lib/python3.9/site-packages/keras/src/losses.py\", line 143, in __call__\n        losses = call_fn(y_true, y_pred)\n    File \"/Users/vmberto/Documents/nigep/venv/lib/python3.9/site-packages/keras/src/losses.py\", line 270, in call  **\n        return ag_fn(y_true, y_pred, **self._fn_kwargs)\n    File \"/Users/vmberto/Documents/nigep/venv/lib/python3.9/site-packages/keras/src/losses.py\", line 2532, in binary_crossentropy\n        backend.binary_crossentropy(y_true, y_pred, from_logits=from_logits),\n    File \"/Users/vmberto/Documents/nigep/venv/lib/python3.9/site-packages/keras/src/backend.py\", line 5824, in binary_crossentropy\n        return tf.nn.sigmoid_cross_entropy_with_logits(\n\n    ValueError: `logits` and `labels` must have the same shape, received ((None, None, None, 1) vs (None,)).\n"
     ]
    }
   ],
   "source": [
    "model = Sequential([\n",
    "  Dense(128, activation='relu', input_shape=(200,200)),\n",
    "  Dense(1, activation=\"sigmoid\"),\n",
    "])\n",
    "\n",
    "\n",
    "alpha = 1e-3\n",
    "\n",
    "model.build()\n",
    "model.summary()\n",
    "model.compile(optimizer='adam', loss='binary_crossentropy', metrics=['accuracy'])\n",
    "\n",
    "dataframe = pd.read_csv('./dataset/dataframe.csv')\n",
    "x_data = dataframe['x_data']\n",
    "y_data = dataframe['y_data']\n",
    "\n",
    "\n",
    "nigep = Nigep(\n",
    "    execution_name='cats_dogs',\n",
    "    model=model,\n",
    "    batch_size=32,\n",
    "    x_data=x_data,\n",
    "    input_shape=(200, 200),\n",
    "    y_data=y_data,\n",
    "    class_mode='binary',\n",
    "    k_fold_n=5,\n",
    "    target_names=['cats', 'dogs'],\n",
    "    epochs=10,\n",
    "  )\n",
    "\n",
    "nigep.execute()"
   ]
  },
  {
   "cell_type": "code",
   "execution_count": 9,
   "id": "f5e7f8b9-df55-429b-bc1d-979398b501f8",
   "metadata": {
    "ExecuteTime": {
     "end_time": "2023-11-30T03:35:52.420738Z",
     "start_time": "2023-11-30T03:35:52.416928Z"
    }
   },
   "outputs": [],
   "source": []
  },
  {
   "cell_type": "code",
   "execution_count": null,
   "outputs": [],
   "source": [],
   "metadata": {
    "collapsed": false
   },
   "id": "1bdac0cdd60c9c5f"
  }
 ],
 "metadata": {
  "kernelspec": {
   "display_name": "Python 3 (ipykernel)",
   "language": "python",
   "name": "python3"
  },
  "language_info": {
   "codemirror_mode": {
    "name": "ipython",
    "version": 3
   },
   "file_extension": ".py",
   "mimetype": "text/x-python",
   "name": "python",
   "nbconvert_exporter": "python",
   "pygments_lexer": "ipython3",
   "version": "3.9.6"
  }
 },
 "nbformat": 4,
 "nbformat_minor": 5
}
