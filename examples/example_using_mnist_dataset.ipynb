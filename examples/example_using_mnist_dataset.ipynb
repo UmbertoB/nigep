{
 "cells": [
  {
   "cell_type": "markdown",
   "source": [
    "# Nigep example using MNIST dataset"
   ],
   "metadata": {
    "collapsed": false
   },
   "id": "1dfeba98a0ea18c5"
  },
  {
   "cell_type": "code",
   "execution_count": 1,
   "id": "initial_id",
   "metadata": {
    "ExecuteTime": {
     "end_time": "2024-03-25T18:04:20.301305Z",
     "start_time": "2024-03-25T18:04:16.857710Z"
    }
   },
   "outputs": [],
   "source": [
    "import os\n",
    "import sys\n",
    "module_path = os.path.abspath(os.path.join('../src/nigep/*'))\n",
    "if module_path not in sys.path:\n",
    "    sys.path.append(module_path)\n",
    "    \n",
    "from src.nigep import Nigep\n",
    "from keras.layers import Dense\n",
    "from keras.models import Sequential\n",
    "from keras.callbacks import ReduceLROnPlateau, EarlyStopping\n",
    "from keras.optimizers.legacy import RMSprop\n",
    "from keras.datasets import mnist\n",
    "from keras.utils import to_categorical\n"
   ]
  },
  {
   "cell_type": "markdown",
   "source": [
    "### Load and preprocess MNIST dataset from Keras package"
   ],
   "metadata": {
    "collapsed": false
   },
   "id": "72a975e881a56640"
  },
  {
   "cell_type": "code",
   "execution_count": 2,
   "outputs": [],
   "source": [
    "(x_train, y_train), (X_test, y_test) = mnist.load_data()\n",
    "\n",
    "x_train = x_train / 255\n",
    "X_test = X_test / 255\n",
    "\n",
    "x_train = x_train.reshape(x_train.shape[0],x_train.shape[1]*x_train.shape[2])\n",
    "X_test = X_test.reshape(X_test.shape[0],X_test.shape[1]*X_test.shape[2])\n",
    "\n",
    "INPUT_DIMS = x_train.shape[1]\n",
    "OUTPUT_DIMS = 10\n",
    "\n",
    "y_train_one_hot = to_categorical(y_train, num_classes=OUTPUT_DIMS)"
   ],
   "metadata": {
    "collapsed": false,
    "ExecuteTime": {
     "end_time": "2024-03-25T18:04:20.463128Z",
     "start_time": "2024-03-25T18:04:20.302444Z"
    }
   },
   "id": "3882b66ebe391834"
  },
  {
   "cell_type": "markdown",
   "source": [
    "### Build and compile the MLP model"
   ],
   "metadata": {
    "collapsed": false
   },
   "id": "ce9d871e929b894"
  },
  {
   "cell_type": "code",
   "execution_count": 3,
   "id": "6444ef153d85b76a",
   "metadata": {
    "collapsed": false,
    "ExecuteTime": {
     "end_time": "2024-03-25T18:04:20.523855Z",
     "start_time": "2024-03-25T18:04:20.463856Z"
    }
   },
   "outputs": [
    {
     "name": "stdout",
     "output_type": "stream",
     "text": [
      "Model: \"sequential\"\n",
      "_________________________________________________________________\n",
      " Layer (type)                Output Shape              Param #   \n",
      "=================================================================\n",
      " Hidden_layer_1 (Dense)      (None, 512)               401920    \n",
      "                                                                 \n",
      " Hidden_layer_2 (Dense)      (None, 128)               65664     \n",
      "                                                                 \n",
      " output_layer (Dense)        (None, 10)                1290      \n",
      "                                                                 \n",
      "=================================================================\n",
      "Total params: 468874 (1.79 MB)\n",
      "Trainable params: 468874 (1.79 MB)\n",
      "Non-trainable params: 0 (0.00 Byte)\n",
      "_________________________________________________________________\n"
     ]
    }
   ],
   "source": [
    "NUM_EPOCHS = 20\n",
    "\n",
    "model = Sequential()\n",
    "\n",
    "model.add(Dense(512, activation=\"sigmoid\", input_shape=(INPUT_DIMS,), name=\"Hidden_layer_1\"))\n",
    "model.add(Dense(128, activation=\"sigmoid\", name=\"Hidden_layer_2\"))\n",
    "\n",
    "model.add(Dense(OUTPUT_DIMS, activation=\"softmax\", name=\"output_layer\"))\n",
    "\n",
    "model.build()\n",
    "\n",
    "model.compile(optimizer=RMSprop(0.001), loss='categorical_crossentropy', metrics=['accuracy'])\n",
    "\n",
    "model.summary()"
   ]
  },
  {
   "cell_type": "markdown",
   "source": [
    "### Execute Nigep to obtain the Generalization Profile results"
   ],
   "metadata": {
    "collapsed": false
   },
   "id": "1e4fc85e28cdfb7b"
  },
  {
   "cell_type": "code",
   "execution_count": 4,
   "outputs": [
    {
     "name": "stdout",
     "output_type": "stream",
     "text": [
      "Fold: 0 - Training\n",
      "1350/1350 [==============================] - 3s 2ms/step - loss: 0.4087 - accuracy: 0.8839 - val_loss: 0.1978 - val_accuracy: 0.9427\n",
      "Fold: 0 - Testing\n",
      "Fold: 1 - Training\n",
      "1350/1350 [==============================] - 3s 2ms/step - loss: 0.1920 - accuracy: 0.9416 - val_loss: 0.1306 - val_accuracy: 0.9627\n",
      "Fold: 1 - Testing\n",
      "Fold: 2 - Training\n",
      "1350/1350 [==============================] - 3s 2ms/step - loss: 0.1330 - accuracy: 0.9591 - val_loss: 0.0877 - val_accuracy: 0.9715\n",
      "Fold: 2 - Testing\n",
      "Fold: 3 - Training\n",
      "1350/1350 [==============================] - 3s 2ms/step - loss: 0.1014 - accuracy: 0.9689 - val_loss: 0.0910 - val_accuracy: 0.9731\n",
      "Fold: 3 - Testing\n",
      "Fold: 4 - Training\n",
      "1350/1350 [==============================] - 3s 2ms/step - loss: 0.0824 - accuracy: 0.9752 - val_loss: 0.0851 - val_accuracy: 0.9756\n",
      "Fold: 4 - Testing\n"
     ]
    }
   ],
   "source": [
    "lr_reduce = ReduceLROnPlateau(monitor='val_loss', factor=0.1, min_delta=0.001, patience=5, verbose=1)\n",
    "erl_stopping = EarlyStopping(patience=4, monitor='val_loss', verbose=1)\n",
    "callbacks = [erl_stopping, lr_reduce]\n",
    "\n",
    "nigep = Nigep(\n",
    "    execution_name='mnist',\n",
    "    x_data=x_train,\n",
    "    y_data=y_train_one_hot,\n",
    "    model=model,\n",
    "    batch_size=128,\n",
    "    input_shape=INPUT_DIMS,\n",
    "    class_mode='categorical',\n",
    "    k_fold_n=5,\n",
    "    target_names=['0', '1', '2', '3', '4', '5', '6', '7', '8', '9'],\n",
    "    epochs=1,\n",
    ")\n",
    "\n",
    "nigep.execute()"
   ],
   "metadata": {
    "collapsed": false,
    "ExecuteTime": {
     "end_time": "2024-03-25T18:04:36.782719Z",
     "start_time": "2024-03-25T18:04:20.524746Z"
    }
   },
   "id": "3506819680e494b3"
  }
 ],
 "metadata": {
  "kernelspec": {
   "display_name": "Python 3 (ipykernel)",
   "language": "python",
   "name": "python3"
  },
  "language_info": {
   "codemirror_mode": {
    "name": "ipython",
    "version": 3
   },
   "file_extension": ".py",
   "mimetype": "text/x-python",
   "name": "python",
   "nbconvert_exporter": "python",
   "pygments_lexer": "ipython3",
   "version": "3.9.6"
  }
 },
 "nbformat": 4,
 "nbformat_minor": 5
}
