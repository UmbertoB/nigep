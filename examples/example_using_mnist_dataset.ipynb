{
 "cells": [
  {
   "cell_type": "markdown",
   "source": [
    "# Nigep example using MNIST dataset"
   ],
   "metadata": {
    "collapsed": false
   },
   "id": "1dfeba98a0ea18c5"
  },
  {
   "cell_type": "code",
   "execution_count": 1,
   "id": "initial_id",
   "metadata": {
    "ExecuteTime": {
     "end_time": "2024-03-06T04:48:59.480695Z",
     "start_time": "2024-03-06T04:48:56.024960Z"
    }
   },
   "outputs": [],
   "source": [
    "import os\n",
    "import sys\n",
    "module_path = os.path.abspath(os.path.join('../src/nigep/*'))\n",
    "if module_path not in sys.path:\n",
    "    sys.path.append(module_path)\n",
    "    \n",
    "from src.nigep import Nigep\n",
    "from keras.layers import Dense\n",
    "from keras.models import Sequential\n",
    "from keras.callbacks import ReduceLROnPlateau, EarlyStopping\n",
    "from keras.optimizers.legacy import RMSprop\n",
    "from keras.datasets import mnist\n",
    "from keras.utils import to_categorical\n"
   ]
  },
  {
   "cell_type": "markdown",
   "source": [
    "### Load and preprocess MNIST dataset from Keras package"
   ],
   "metadata": {
    "collapsed": false
   },
   "id": "72a975e881a56640"
  },
  {
   "cell_type": "code",
   "execution_count": 2,
   "outputs": [],
   "source": [
    "(X_train, y_train), (X_test, y_test) = mnist.load_data()\n",
    "\n",
    "X_train = X_train / 255\n",
    "X_test = X_test / 255\n",
    "\n",
    "X_train = X_train.reshape(X_train.shape[0],X_train.shape[1]*X_train.shape[2])\n",
    "X_test = X_test.reshape(X_test.shape[0],X_test.shape[1]*X_test.shape[2])\n",
    "\n",
    "INPUT_DIMS = X_train.shape[1]\n",
    "OUTPUT_DIMS = 10\n",
    "\n",
    "y_train_one_hot = to_categorical(y_train, num_classes=OUTPUT_DIMS)"
   ],
   "metadata": {
    "collapsed": false,
    "ExecuteTime": {
     "end_time": "2024-03-06T04:48:59.608140Z",
     "start_time": "2024-03-06T04:48:59.482694Z"
    }
   },
   "id": "3882b66ebe391834"
  },
  {
   "cell_type": "markdown",
   "source": [
    "### Build and compile the MLP model"
   ],
   "metadata": {
    "collapsed": false
   },
   "id": "ce9d871e929b894"
  },
  {
   "cell_type": "code",
   "execution_count": 3,
   "id": "6444ef153d85b76a",
   "metadata": {
    "collapsed": false,
    "ExecuteTime": {
     "end_time": "2024-03-06T04:48:59.647442Z",
     "start_time": "2024-03-06T04:48:59.609150Z"
    }
   },
   "outputs": [
    {
     "name": "stdout",
     "output_type": "stream",
     "text": [
      "Model: \"sequential\"\n",
      "_________________________________________________________________\n",
      " Layer (type)                Output Shape              Param #   \n",
      "=================================================================\n",
      " Hidden_layer_1 (Dense)      (None, 512)               401920    \n",
      "                                                                 \n",
      " Hidden_layer_2 (Dense)      (None, 128)               65664     \n",
      "                                                                 \n",
      " output_layer (Dense)        (None, 10)                1290      \n",
      "                                                                 \n",
      "=================================================================\n",
      "Total params: 468874 (1.79 MB)\n",
      "Trainable params: 468874 (1.79 MB)\n",
      "Non-trainable params: 0 (0.00 Byte)\n",
      "_________________________________________________________________\n"
     ]
    }
   ],
   "source": [
    "NUM_EPOCHS = 20\n",
    "\n",
    "model = Sequential()\n",
    "\n",
    "model.add(Dense(512, activation=\"sigmoid\", input_shape=(INPUT_DIMS,), name=\"Hidden_layer_1\"))\n",
    "model.add(Dense(128, activation=\"sigmoid\", name=\"Hidden_layer_2\"))\n",
    "\n",
    "model.add(Dense(OUTPUT_DIMS, activation=\"softmax\", name=\"output_layer\"))\n",
    "\n",
    "model.build()\n",
    "\n",
    "model.compile(optimizer=RMSprop(0.001), loss='categorical_crossentropy', metrics=['accuracy'])\n",
    "\n",
    "model.summary()"
   ]
  },
  {
   "cell_type": "markdown",
   "source": [
    "### Execute Nigep to obtain the Generalization Profile results"
   ],
   "metadata": {
    "collapsed": false
   },
   "id": "1e4fc85e28cdfb7b"
  },
  {
   "cell_type": "code",
   "execution_count": 4,
   "outputs": [
    {
     "name": "stdout",
     "output_type": "stream",
     "text": [
      "Fold: 0 - Training with Noise: 0\n",
      "Fold: 1 - Training with Noise: 0\n",
      "Fold: 0 - Train Noise: 0 - Test Noise: 0Fold: 1 - Train Noise: 0 - Test Noise: 0\n",
      "Fold: 0 - Train Noise: 0 - Test Noise: 0.1Fold: 1 - Train Noise: 0 - Test Noise: 0.1\n",
      "Fold: 1 - Train Noise: 0 - Test Noise: 0.2\n",
      "Fold: 0 - Train Noise: 0 - Test Noise: 0.2\n",
      "Fold: 1 - Train Noise: 0 - Test Noise: 0.3\n",
      "Fold: 0 - Train Noise: 0 - Test Noise: 0.3\n",
      "Fold: 0 - Train Noise: 0 - Test Noise: 0.4\n",
      "Fold: 1 - Train Noise: 0 - Test Noise: 0.4\n",
      "Fold: 1 - Train Noise: 0 - Test Noise: 0.5Fold: 0 - Train Noise: 0 - Test Noise: 0.5\n",
      "Fold: 1 - Train Noise: 0 - Test Noise: 0.6\n",
      "Fold: 0 - Train Noise: 0 - Test Noise: 0.6\n",
      "Fold: 1 - Train Noise: 0 - Test Noise: 0.7\n",
      "Fold: 0 - Train Noise: 0 - Test Noise: 0.7\n"
     ]
    },
    {
     "name": "stderr",
     "output_type": "stream",
     "text": [
      "/Users/vmberto/Documents/nigep/venv/lib/python3.9/site-packages/sklearn/metrics/_classification.py:1469: UndefinedMetricWarning: Precision and F-score are ill-defined and being set to 0.0 in labels with no predicted samples. Use `zero_division` parameter to control this behavior.\n",
      "  _warn_prf(average, modifier, msg_start, len(result))\n",
      "/Users/vmberto/Documents/nigep/venv/lib/python3.9/site-packages/sklearn/metrics/_classification.py:1469: UndefinedMetricWarning: Precision and F-score are ill-defined and being set to 0.0 in labels with no predicted samples. Use `zero_division` parameter to control this behavior.\n",
      "  _warn_prf(average, modifier, msg_start, len(result))\n",
      "/Users/vmberto/Documents/nigep/venv/lib/python3.9/site-packages/sklearn/metrics/_classification.py:1469: UndefinedMetricWarning: Precision and F-score are ill-defined and being set to 0.0 in labels with no predicted samples. Use `zero_division` parameter to control this behavior.\n",
      "  _warn_prf(average, modifier, msg_start, len(result))\n",
      "/Users/vmberto/Documents/nigep/venv/lib/python3.9/site-packages/sklearn/metrics/_classification.py:1469: UndefinedMetricWarning: Precision and F-score are ill-defined and being set to 0.0 in labels with no predicted samples. Use `zero_division` parameter to control this behavior.\n",
      "  _warn_prf(average, modifier, msg_start, len(result))\n",
      "/Users/vmberto/Documents/nigep/venv/lib/python3.9/site-packages/sklearn/metrics/_classification.py:1469: UndefinedMetricWarning: Precision and F-score are ill-defined and being set to 0.0 in labels with no predicted samples. Use `zero_division` parameter to control this behavior.\n",
      "  _warn_prf(average, modifier, msg_start, len(result))\n"
     ]
    },
    {
     "name": "stdout",
     "output_type": "stream",
     "text": [
      "Fold: 0 - Train Noise: 0 - Test Noise: 0.8\n",
      "Fold: 1 - Train Noise: 0 - Test Noise: 0.8\n"
     ]
    },
    {
     "name": "stderr",
     "output_type": "stream",
     "text": [
      "/Users/vmberto/Documents/nigep/venv/lib/python3.9/site-packages/sklearn/metrics/_classification.py:1469: UndefinedMetricWarning: Precision and F-score are ill-defined and being set to 0.0 in labels with no predicted samples. Use `zero_division` parameter to control this behavior.\n",
      "  _warn_prf(average, modifier, msg_start, len(result))\n",
      "/Users/vmberto/Documents/nigep/venv/lib/python3.9/site-packages/sklearn/metrics/_classification.py:1469: UndefinedMetricWarning: Precision and F-score are ill-defined and being set to 0.0 in labels with no predicted samples. Use `zero_division` parameter to control this behavior.\n",
      "  _warn_prf(average, modifier, msg_start, len(result))\n",
      "/Users/vmberto/Documents/nigep/venv/lib/python3.9/site-packages/sklearn/metrics/_classification.py:1469: UndefinedMetricWarning: Precision and F-score are ill-defined and being set to 0.0 in labels with no predicted samples. Use `zero_division` parameter to control this behavior.\n",
      "  _warn_prf(average, modifier, msg_start, len(result))\n"
     ]
    },
    {
     "name": "stdout",
     "output_type": "stream",
     "text": [
      "Fold: 0 - Train Noise: 0 - Test Noise: 0.9\n",
      "Fold: 1 - Train Noise: 0 - Test Noise: 0.9\n",
      "Fold: 1 - Training with Noise: 0.1\n",
      "Fold: 0 - Training with Noise: 0.1\n",
      "WARNING:tensorflow:Your input ran out of data; interrupting training. Make sure that your dataset or generator can generate at least `steps_per_epoch * epochs` batches (in this case, 150 batches). You may need to use the repeat() function when building your dataset.\n",
      "Fold: 1 - Train Noise: 0.1 - Test Noise: 0\n",
      "Fold: 0 - Train Noise: 0.1 - Test Noise: 0\n",
      "Fold: 1 - Train Noise: 0.1 - Test Noise: 0.1\n",
      "Fold: 0 - Train Noise: 0.1 - Test Noise: 0.1\n",
      "Fold: 1 - Train Noise: 0.1 - Test Noise: 0.2\n",
      "Fold: 0 - Train Noise: 0.1 - Test Noise: 0.2\n",
      "Fold: 1 - Train Noise: 0.1 - Test Noise: 0.3\n",
      "Fold: 0 - Train Noise: 0.1 - Test Noise: 0.3\n",
      "Fold: 1 - Train Noise: 0.1 - Test Noise: 0.4\n",
      "Fold: 0 - Train Noise: 0.1 - Test Noise: 0.4\n",
      "Fold: 1 - Train Noise: 0.1 - Test Noise: 0.5\n",
      "Fold: 0 - Train Noise: 0.1 - Test Noise: 0.5\n",
      "Fold: 1 - Train Noise: 0.1 - Test Noise: 0.6\n",
      "Fold: 0 - Train Noise: 0.1 - Test Noise: 0.6\n",
      "Fold: 1 - Train Noise: 0.1 - Test Noise: 0.7\n",
      "Fold: 0 - Train Noise: 0.1 - Test Noise: 0.7\n",
      "Fold: 1 - Train Noise: 0.1 - Test Noise: 0.8\n",
      "Fold: 0 - Train Noise: 0.1 - Test Noise: 0.8\n",
      "Fold: 1 - Train Noise: 0.1 - Test Noise: 0.9\n",
      "Fold: 0 - Train Noise: 0.1 - Test Noise: 0.9\n",
      "Fold: 1 - Training with Noise: 0.2\n",
      "Fold: 0 - Training with Noise: 0.2\n",
      "Fold: 1 - Train Noise: 0.2 - Test Noise: 0\n",
      "Fold: 0 - Train Noise: 0.2 - Test Noise: 0\n",
      "Fold: 1 - Train Noise: 0.2 - Test Noise: 0.1\n",
      "Fold: 0 - Train Noise: 0.2 - Test Noise: 0.1\n",
      "Fold: 1 - Train Noise: 0.2 - Test Noise: 0.2\n",
      "Fold: 0 - Train Noise: 0.2 - Test Noise: 0.2\n",
      "Fold: 1 - Train Noise: 0.2 - Test Noise: 0.3\n",
      "Fold: 0 - Train Noise: 0.2 - Test Noise: 0.3\n",
      "Fold: 1 - Train Noise: 0.2 - Test Noise: 0.4\n",
      "Fold: 0 - Train Noise: 0.2 - Test Noise: 0.4\n",
      "Fold: 1 - Train Noise: 0.2 - Test Noise: 0.5\n",
      "Fold: 0 - Train Noise: 0.2 - Test Noise: 0.5\n",
      "Fold: 1 - Train Noise: 0.2 - Test Noise: 0.6\n",
      "Fold: 0 - Train Noise: 0.2 - Test Noise: 0.6\n",
      "Fold: 1 - Train Noise: 0.2 - Test Noise: 0.7\n",
      "Fold: 0 - Train Noise: 0.2 - Test Noise: 0.7\n",
      "Fold: 1 - Train Noise: 0.2 - Test Noise: 0.8\n",
      "Fold: 0 - Train Noise: 0.2 - Test Noise: 0.8\n",
      "Fold: 1 - Train Noise: 0.2 - Test Noise: 0.9\n",
      "Fold: 0 - Train Noise: 0.2 - Test Noise: 0.9\n",
      "Fold: 1 - Training with Noise: 0.3\n",
      "Fold: 0 - Training with Noise: 0.3\n",
      "Fold: 1 - Train Noise: 0.3 - Test Noise: 0\n",
      "Fold: 0 - Train Noise: 0.3 - Test Noise: 0\n",
      "Fold: 1 - Train Noise: 0.3 - Test Noise: 0.1\n",
      "Fold: 0 - Train Noise: 0.3 - Test Noise: 0.1\n",
      "Fold: 1 - Train Noise: 0.3 - Test Noise: 0.2\n",
      "Fold: 0 - Train Noise: 0.3 - Test Noise: 0.2\n",
      "Fold: 1 - Train Noise: 0.3 - Test Noise: 0.3\n",
      "Fold: 0 - Train Noise: 0.3 - Test Noise: 0.3\n",
      "Fold: 1 - Train Noise: 0.3 - Test Noise: 0.4\n",
      "Fold: 0 - Train Noise: 0.3 - Test Noise: 0.4\n",
      "Fold: 1 - Train Noise: 0.3 - Test Noise: 0.5\n",
      "Fold: 0 - Train Noise: 0.3 - Test Noise: 0.5\n",
      "Fold: 1 - Train Noise: 0.3 - Test Noise: 0.6\n",
      "Fold: 0 - Train Noise: 0.3 - Test Noise: 0.6\n",
      "Fold: 1 - Train Noise: 0.3 - Test Noise: 0.7\n",
      "Fold: 0 - Train Noise: 0.3 - Test Noise: 0.7\n",
      "Fold: 1 - Train Noise: 0.3 - Test Noise: 0.8\n",
      "Fold: 0 - Train Noise: 0.3 - Test Noise: 0.8\n",
      "Fold: 1 - Train Noise: 0.3 - Test Noise: 0.9\n",
      "Fold: 0 - Train Noise: 0.3 - Test Noise: 0.9\n",
      "Fold: 0 - Training with Noise: 0.4\n",
      "Fold: 1 - Training with Noise: 0.4\n",
      "Fold: 0 - Train Noise: 0.4 - Test Noise: 0\n",
      "Fold: 1 - Train Noise: 0.4 - Test Noise: 0\n",
      "Fold: 0 - Train Noise: 0.4 - Test Noise: 0.1\n",
      "Fold: 1 - Train Noise: 0.4 - Test Noise: 0.1\n",
      "Fold: 0 - Train Noise: 0.4 - Test Noise: 0.2\n",
      "Fold: 1 - Train Noise: 0.4 - Test Noise: 0.2\n",
      "Fold: 0 - Train Noise: 0.4 - Test Noise: 0.3\n",
      "Fold: 1 - Train Noise: 0.4 - Test Noise: 0.3\n",
      "Fold: 0 - Train Noise: 0.4 - Test Noise: 0.4\n",
      "Fold: 1 - Train Noise: 0.4 - Test Noise: 0.4\n",
      "Fold: 0 - Train Noise: 0.4 - Test Noise: 0.5\n",
      "Fold: 1 - Train Noise: 0.4 - Test Noise: 0.5\n",
      "Fold: 0 - Train Noise: 0.4 - Test Noise: 0.6\n",
      "Fold: 1 - Train Noise: 0.4 - Test Noise: 0.6\n",
      "Fold: 0 - Train Noise: 0.4 - Test Noise: 0.7\n",
      "Fold: 1 - Train Noise: 0.4 - Test Noise: 0.7\n",
      "Fold: 0 - Train Noise: 0.4 - Test Noise: 0.8\n",
      "Fold: 1 - Train Noise: 0.4 - Test Noise: 0.8\n",
      "Fold: 0 - Train Noise: 0.4 - Test Noise: 0.9\n",
      "Fold: 1 - Train Noise: 0.4 - Test Noise: 0.9\n",
      "Fold: 0 - Training with Noise: 0.5\n",
      "Fold: 1 - Training with Noise: 0.5\n"
     ]
    },
    {
     "ename": "KeyboardInterrupt",
     "evalue": "",
     "output_type": "error",
     "traceback": [
      "\u001B[0;31m---------------------------------------------------------------------------\u001B[0m",
      "\u001B[0;31mKeyboardInterrupt\u001B[0m                         Traceback (most recent call last)",
      "File \u001B[0;32m~/Documents/nigep/src/nigep/nigep.py:97\u001B[0m, in \u001B[0;36mNigep.fit\u001B[0;34m(self)\u001B[0m\n\u001B[1;32m     96\u001B[0m     \u001B[38;5;28;01mfor\u001B[39;00m future \u001B[38;5;129;01min\u001B[39;00m futures:\n\u001B[0;32m---> 97\u001B[0m         \u001B[43mfuture\u001B[49m\u001B[38;5;241;43m.\u001B[39;49m\u001B[43mresult\u001B[49m\u001B[43m(\u001B[49m\u001B[43m)\u001B[49m\n\u001B[1;32m     99\u001B[0m \u001B[38;5;28mself\u001B[39m\u001B[38;5;241m.\u001B[39mrw\u001B[38;5;241m.\u001B[39msave_mean_merged_results()\n",
      "File \u001B[0;32m/Library/Developer/CommandLineTools/Library/Frameworks/Python3.framework/Versions/3.9/lib/python3.9/concurrent/futures/_base.py:440\u001B[0m, in \u001B[0;36mFuture.result\u001B[0;34m(self, timeout)\u001B[0m\n\u001B[1;32m    438\u001B[0m     \u001B[38;5;28;01mreturn\u001B[39;00m \u001B[38;5;28mself\u001B[39m\u001B[38;5;241m.\u001B[39m__get_result()\n\u001B[0;32m--> 440\u001B[0m \u001B[38;5;28;43mself\u001B[39;49m\u001B[38;5;241;43m.\u001B[39;49m\u001B[43m_condition\u001B[49m\u001B[38;5;241;43m.\u001B[39;49m\u001B[43mwait\u001B[49m\u001B[43m(\u001B[49m\u001B[43mtimeout\u001B[49m\u001B[43m)\u001B[49m\n\u001B[1;32m    442\u001B[0m \u001B[38;5;28;01mif\u001B[39;00m \u001B[38;5;28mself\u001B[39m\u001B[38;5;241m.\u001B[39m_state \u001B[38;5;129;01min\u001B[39;00m [CANCELLED, CANCELLED_AND_NOTIFIED]:\n",
      "File \u001B[0;32m/Library/Developer/CommandLineTools/Library/Frameworks/Python3.framework/Versions/3.9/lib/python3.9/threading.py:312\u001B[0m, in \u001B[0;36mCondition.wait\u001B[0;34m(self, timeout)\u001B[0m\n\u001B[1;32m    311\u001B[0m \u001B[38;5;28;01mif\u001B[39;00m timeout \u001B[38;5;129;01mis\u001B[39;00m \u001B[38;5;28;01mNone\u001B[39;00m:\n\u001B[0;32m--> 312\u001B[0m     \u001B[43mwaiter\u001B[49m\u001B[38;5;241;43m.\u001B[39;49m\u001B[43macquire\u001B[49m\u001B[43m(\u001B[49m\u001B[43m)\u001B[49m\n\u001B[1;32m    313\u001B[0m     gotit \u001B[38;5;241m=\u001B[39m \u001B[38;5;28;01mTrue\u001B[39;00m\n",
      "\u001B[0;31mKeyboardInterrupt\u001B[0m: ",
      "\nDuring handling of the above exception, another exception occurred:\n",
      "\u001B[0;31mKeyboardInterrupt\u001B[0m                         Traceback (most recent call last)",
      "Cell \u001B[0;32mIn[4], line 18\u001B[0m\n\u001B[1;32m      3\u001B[0m callbacks \u001B[38;5;241m=\u001B[39m [erl_stopping, lr_reduce]\n\u001B[1;32m      5\u001B[0m nigep \u001B[38;5;241m=\u001B[39m Nigep(\n\u001B[1;32m      6\u001B[0m     execution_name\u001B[38;5;241m=\u001B[39m\u001B[38;5;124m'\u001B[39m\u001B[38;5;124mmnist\u001B[39m\u001B[38;5;124m'\u001B[39m,\n\u001B[1;32m      7\u001B[0m     x_data\u001B[38;5;241m=\u001B[39mX_train,\n\u001B[0;32m   (...)\u001B[0m\n\u001B[1;32m     15\u001B[0m     epochs\u001B[38;5;241m=\u001B[39m\u001B[38;5;241m20\u001B[39m,\n\u001B[1;32m     16\u001B[0m )\n\u001B[0;32m---> 18\u001B[0m \u001B[43mnigep\u001B[49m\u001B[38;5;241;43m.\u001B[39;49m\u001B[43mfit\u001B[49m\u001B[43m(\u001B[49m\u001B[43m)\u001B[49m\n",
      "File \u001B[0;32m~/Documents/nigep/src/nigep/nigep.py:97\u001B[0m, in \u001B[0;36mNigep.fit\u001B[0;34m(self)\u001B[0m\n\u001B[1;32m     90\u001B[0m     futures \u001B[38;5;241m=\u001B[39m [executor\u001B[38;5;241m.\u001B[39msubmit(\n\u001B[1;32m     91\u001B[0m         execute, fold_number, train_index, test_index)\n\u001B[1;32m     92\u001B[0m         \u001B[38;5;28;01mfor\u001B[39;00m fold_number, (train_index, test_index)\n\u001B[1;32m     93\u001B[0m         \u001B[38;5;129;01min\u001B[39;00m dataset_splits\n\u001B[1;32m     94\u001B[0m     ]\n\u001B[1;32m     96\u001B[0m     \u001B[38;5;28;01mfor\u001B[39;00m future \u001B[38;5;129;01min\u001B[39;00m futures:\n\u001B[0;32m---> 97\u001B[0m         future\u001B[38;5;241m.\u001B[39mresult()\n\u001B[1;32m     99\u001B[0m \u001B[38;5;28mself\u001B[39m\u001B[38;5;241m.\u001B[39mrw\u001B[38;5;241m.\u001B[39msave_mean_merged_results()\n\u001B[1;32m    100\u001B[0m \u001B[38;5;28mself\u001B[39m\u001B[38;5;241m.\u001B[39mrw\u001B[38;5;241m.\u001B[39msave_heatmap_csv()\n",
      "File \u001B[0;32m/Library/Developer/CommandLineTools/Library/Frameworks/Python3.framework/Versions/3.9/lib/python3.9/concurrent/futures/_base.py:636\u001B[0m, in \u001B[0;36mExecutor.__exit__\u001B[0;34m(self, exc_type, exc_val, exc_tb)\u001B[0m\n\u001B[1;32m    635\u001B[0m \u001B[38;5;28;01mdef\u001B[39;00m \u001B[38;5;21m__exit__\u001B[39m(\u001B[38;5;28mself\u001B[39m, exc_type, exc_val, exc_tb):\n\u001B[0;32m--> 636\u001B[0m     \u001B[38;5;28;43mself\u001B[39;49m\u001B[38;5;241;43m.\u001B[39;49m\u001B[43mshutdown\u001B[49m\u001B[43m(\u001B[49m\u001B[43mwait\u001B[49m\u001B[38;5;241;43m=\u001B[39;49m\u001B[38;5;28;43;01mTrue\u001B[39;49;00m\u001B[43m)\u001B[49m\n\u001B[1;32m    637\u001B[0m     \u001B[38;5;28;01mreturn\u001B[39;00m \u001B[38;5;28;01mFalse\u001B[39;00m\n",
      "File \u001B[0;32m/Library/Developer/CommandLineTools/Library/Frameworks/Python3.framework/Versions/3.9/lib/python3.9/concurrent/futures/thread.py:229\u001B[0m, in \u001B[0;36mThreadPoolExecutor.shutdown\u001B[0;34m(self, wait, cancel_futures)\u001B[0m\n\u001B[1;32m    227\u001B[0m \u001B[38;5;28;01mif\u001B[39;00m wait:\n\u001B[1;32m    228\u001B[0m     \u001B[38;5;28;01mfor\u001B[39;00m t \u001B[38;5;129;01min\u001B[39;00m \u001B[38;5;28mself\u001B[39m\u001B[38;5;241m.\u001B[39m_threads:\n\u001B[0;32m--> 229\u001B[0m         \u001B[43mt\u001B[49m\u001B[38;5;241;43m.\u001B[39;49m\u001B[43mjoin\u001B[49m\u001B[43m(\u001B[49m\u001B[43m)\u001B[49m\n",
      "File \u001B[0;32m/Library/Developer/CommandLineTools/Library/Frameworks/Python3.framework/Versions/3.9/lib/python3.9/threading.py:1053\u001B[0m, in \u001B[0;36mThread.join\u001B[0;34m(self, timeout)\u001B[0m\n\u001B[1;32m   1050\u001B[0m     \u001B[38;5;28;01mraise\u001B[39;00m \u001B[38;5;167;01mRuntimeError\u001B[39;00m(\u001B[38;5;124m\"\u001B[39m\u001B[38;5;124mcannot join current thread\u001B[39m\u001B[38;5;124m\"\u001B[39m)\n\u001B[1;32m   1052\u001B[0m \u001B[38;5;28;01mif\u001B[39;00m timeout \u001B[38;5;129;01mis\u001B[39;00m \u001B[38;5;28;01mNone\u001B[39;00m:\n\u001B[0;32m-> 1053\u001B[0m     \u001B[38;5;28;43mself\u001B[39;49m\u001B[38;5;241;43m.\u001B[39;49m\u001B[43m_wait_for_tstate_lock\u001B[49m\u001B[43m(\u001B[49m\u001B[43m)\u001B[49m\n\u001B[1;32m   1054\u001B[0m \u001B[38;5;28;01melse\u001B[39;00m:\n\u001B[1;32m   1055\u001B[0m     \u001B[38;5;66;03m# the behavior of a negative timeout isn't documented, but\u001B[39;00m\n\u001B[1;32m   1056\u001B[0m     \u001B[38;5;66;03m# historically .join(timeout=x) for x<0 has acted as if timeout=0\u001B[39;00m\n\u001B[1;32m   1057\u001B[0m     \u001B[38;5;28mself\u001B[39m\u001B[38;5;241m.\u001B[39m_wait_for_tstate_lock(timeout\u001B[38;5;241m=\u001B[39m\u001B[38;5;28mmax\u001B[39m(timeout, \u001B[38;5;241m0\u001B[39m))\n",
      "File \u001B[0;32m/Library/Developer/CommandLineTools/Library/Frameworks/Python3.framework/Versions/3.9/lib/python3.9/threading.py:1069\u001B[0m, in \u001B[0;36mThread._wait_for_tstate_lock\u001B[0;34m(self, block, timeout)\u001B[0m\n\u001B[1;32m   1067\u001B[0m \u001B[38;5;28;01mif\u001B[39;00m lock \u001B[38;5;129;01mis\u001B[39;00m \u001B[38;5;28;01mNone\u001B[39;00m:  \u001B[38;5;66;03m# already determined that the C code is done\u001B[39;00m\n\u001B[1;32m   1068\u001B[0m     \u001B[38;5;28;01massert\u001B[39;00m \u001B[38;5;28mself\u001B[39m\u001B[38;5;241m.\u001B[39m_is_stopped\n\u001B[0;32m-> 1069\u001B[0m \u001B[38;5;28;01melif\u001B[39;00m \u001B[43mlock\u001B[49m\u001B[38;5;241;43m.\u001B[39;49m\u001B[43macquire\u001B[49m\u001B[43m(\u001B[49m\u001B[43mblock\u001B[49m\u001B[43m,\u001B[49m\u001B[43m \u001B[49m\u001B[43mtimeout\u001B[49m\u001B[43m)\u001B[49m:\n\u001B[1;32m   1070\u001B[0m     lock\u001B[38;5;241m.\u001B[39mrelease()\n\u001B[1;32m   1071\u001B[0m     \u001B[38;5;28mself\u001B[39m\u001B[38;5;241m.\u001B[39m_stop()\n",
      "\u001B[0;31mKeyboardInterrupt\u001B[0m: "
     ]
    }
   ],
   "source": [
    "lr_reduce = ReduceLROnPlateau(monitor='val_loss', factor=0.1, min_delta=0.001, patience=5, verbose=1)\n",
    "erl_stopping = EarlyStopping(patience=4, monitor='val_loss', verbose=1)\n",
    "callbacks = [erl_stopping, lr_reduce]\n",
    "\n",
    "nigep = Nigep(\n",
    "    execution_name='mnist',\n",
    "    x_data=X_train,\n",
    "    y_data=y_train_one_hot,\n",
    "    model=model,\n",
    "    batch_size=128,\n",
    "    input_shape=INPUT_DIMS,\n",
    "    class_mode='categorical',\n",
    "    k_fold_n=5,\n",
    "    target_names=['0', '1', '2', '3', '4', '5', '6', '7', '8', '9'],\n",
    "    epochs=20,\n",
    ")\n",
    "\n",
    "nigep.fit()"
   ],
   "metadata": {
    "collapsed": false,
    "ExecuteTime": {
     "end_time": "2024-03-06T04:57:38.706254Z",
     "start_time": "2024-03-06T04:48:59.649490Z"
    }
   },
   "id": "3506819680e494b3"
  },
  {
   "cell_type": "code",
   "execution_count": null,
   "outputs": [],
   "source": [
    "nigep.plot_and_save_generalization_profile()"
   ],
   "metadata": {
    "collapsed": false,
    "ExecuteTime": {
     "end_time": "2024-03-06T04:57:38.709352Z",
     "start_time": "2024-03-06T04:57:38.709257Z"
    }
   },
   "id": "84ac0cd8b1f25a34"
  }
 ],
 "metadata": {
  "kernelspec": {
   "display_name": "Python 3 (ipykernel)",
   "language": "python",
   "name": "python3"
  },
  "language_info": {
   "codemirror_mode": {
    "name": "ipython",
    "version": 3
   },
   "file_extension": ".py",
   "mimetype": "text/x-python",
   "name": "python",
   "nbconvert_exporter": "python",
   "pygments_lexer": "ipython3",
   "version": "3.9.6"
  }
 },
 "nbformat": 4,
 "nbformat_minor": 5
}
