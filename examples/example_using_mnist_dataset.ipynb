{
 "cells": [
  {
   "cell_type": "markdown",
   "source": [
    "# Nigep example using MNIST dataset"
   ],
   "metadata": {
    "collapsed": false
   },
   "id": "1dfeba98a0ea18c5"
  },
  {
   "cell_type": "code",
   "execution_count": 1,
   "id": "initial_id",
   "metadata": {
    "ExecuteTime": {
     "end_time": "2024-03-05T23:28:21.997192Z",
     "start_time": "2024-03-05T23:28:19.037548Z"
    }
   },
   "outputs": [],
   "source": [
    "import os\n",
    "import sys\n",
    "module_path = os.path.abspath(os.path.join('../src/nigep/*'))\n",
    "if module_path not in sys.path:\n",
    "    sys.path.append(module_path)\n",
    "    \n",
    "from src.nigep import Nigep\n",
    "from keras.layers import Dense\n",
    "from keras.models import Sequential\n",
    "from keras.callbacks import ReduceLROnPlateau, EarlyStopping\n",
    "from keras.optimizers.legacy import RMSprop\n",
    "from keras.datasets import mnist\n",
    "from keras.utils import to_categorical\n"
   ]
  },
  {
   "cell_type": "markdown",
   "source": [
    "### Load and preprocess MNIST dataset from Keras package"
   ],
   "metadata": {
    "collapsed": false
   },
   "id": "72a975e881a56640"
  },
  {
   "cell_type": "code",
   "execution_count": 2,
   "outputs": [],
   "source": [
    "(X_train, y_train), (X_test, y_test) = mnist.load_data()\n",
    "\n",
    "X_train = X_train / 255\n",
    "X_test = X_test / 255\n",
    "\n",
    "X_train = X_train.reshape(X_train.shape[0],X_train.shape[1]*X_train.shape[2])\n",
    "X_test = X_test.reshape(X_test.shape[0],X_test.shape[1]*X_test.shape[2])\n",
    "\n",
    "INPUT_DIMS = X_train.shape[1]\n",
    "OUTPUT_DIMS = 10\n",
    "\n",
    "y_train_one_hot = to_categorical(y_train, num_classes=OUTPUT_DIMS)"
   ],
   "metadata": {
    "collapsed": false,
    "ExecuteTime": {
     "end_time": "2024-03-05T23:28:22.129272Z",
     "start_time": "2024-03-05T23:28:21.999062Z"
    }
   },
   "id": "3882b66ebe391834"
  },
  {
   "cell_type": "markdown",
   "source": [
    "### Build and compile the MLP model"
   ],
   "metadata": {
    "collapsed": false
   },
   "id": "ce9d871e929b894"
  },
  {
   "cell_type": "code",
   "execution_count": 3,
   "id": "6444ef153d85b76a",
   "metadata": {
    "collapsed": false,
    "ExecuteTime": {
     "end_time": "2024-03-05T23:28:22.169066Z",
     "start_time": "2024-03-05T23:28:22.130495Z"
    }
   },
   "outputs": [
    {
     "name": "stdout",
     "output_type": "stream",
     "text": [
      "Model: \"sequential\"\n",
      "_________________________________________________________________\n",
      " Layer (type)                Output Shape              Param #   \n",
      "=================================================================\n",
      " Hidden_layer_1 (Dense)      (None, 512)               401920    \n",
      "                                                                 \n",
      " Hidden_layer_2 (Dense)      (None, 128)               65664     \n",
      "                                                                 \n",
      " output_layer (Dense)        (None, 10)                1290      \n",
      "                                                                 \n",
      "=================================================================\n",
      "Total params: 468874 (1.79 MB)\n",
      "Trainable params: 468874 (1.79 MB)\n",
      "Non-trainable params: 0 (0.00 Byte)\n",
      "_________________________________________________________________\n"
     ]
    }
   ],
   "source": [
    "NUM_EPOCHS = 20\n",
    "\n",
    "model = Sequential()\n",
    "\n",
    "model.add(Dense(512, activation=\"sigmoid\", input_shape=(INPUT_DIMS,), name=\"Hidden_layer_1\"))\n",
    "model.add(Dense(128, activation=\"sigmoid\", name=\"Hidden_layer_2\"))\n",
    "\n",
    "model.add(Dense(OUTPUT_DIMS, activation=\"softmax\", name=\"output_layer\"))\n",
    "\n",
    "model.build()\n",
    "\n",
    "model.compile(optimizer=RMSprop(0.001), loss='categorical_crossentropy', metrics=['accuracy'])\n",
    "\n",
    "model.summary()"
   ]
  },
  {
   "cell_type": "markdown",
   "source": [
    "### Execute Nigep to obtain the Generalization Profile results"
   ],
   "metadata": {
    "collapsed": false
   },
   "id": "1e4fc85e28cdfb7b"
  },
  {
   "cell_type": "code",
   "execution_count": null,
   "outputs": [
    {
     "name": "stdout",
     "output_type": "stream",
     "text": [
      "Epoch 1/20\n",
      "Epoch 1/20\n",
      "1350/1350 [==============================] - 4s 3ms/step - loss: 0.3962 - accuracy: 0.8860 - val_loss: 0.2039 - val_accuracy: 0.9404\n",
      "1350/1350 [==============================] - 4s 3ms/step - loss: 0.3964 - accuracy: 0.8860 - val_loss: 0.2039 - val_accuracy: 0.9406\n",
      "Epoch 2/20\n",
      "Epoch 2/20\n",
      "1350/1350 [==============================] - 5s 3ms/step - loss: 0.1564 - accuracy: 0.9590 - val_loss: 0.1535 - val_accuracy: 0.9545\n",
      "1350/1350 [==============================] - 5s 3ms/step - loss: 0.1849 - accuracy: 0.9443 - val_loss: 0.1528 - val_accuracy: 0.9545\n",
      "Epoch 3/20\n",
      "Epoch 3/20\n",
      "1350/1350 [==============================] - 5s 4ms/step - loss: 0.1379 - accuracy: 0.9596 - val_loss: 0.1090 - val_accuracy: 0.9667\n",
      "Epoch 4/20\n",
      "1350/1350 [==============================] - 5s 4ms/step - loss: 0.1319 - accuracy: 0.9604 - val_loss: 0.1085 - val_accuracy: 0.9667\n",
      "Epoch 4/20\n",
      "1350/1350 [==============================] - 5s 3ms/step - loss: 0.1027 - accuracy: 0.9693 - val_loss: 0.1086 - val_accuracy: 0.9776\n",
      "1350/1350 [==============================] - 5s 3ms/step - loss: 0.1295 - accuracy: 0.9639 - val_loss: 0.1087 - val_accuracy: 0.9773\n",
      "Epoch 5/20\n",
      "Epoch 5/20\n",
      "1334/1350 [============================>.] - ETA: 0s - loss: 0.1060 - accuracy: 0.9669WARNING:tensorflow:Your input ran out of data; interrupting training. Make sure that your dataset or generator can generate at least `steps_per_epoch * epochs` batches (in this case, 150 batches). You may need to use the repeat() function when building your dataset.\n",
      "1350/1350 [==============================] - 5s 3ms/step - loss: 0.1244 - accuracy: 0.9604 - val_loss: 0.1057 - val_accuracy: 0.9700\n",
      "1350/1350 [==============================] - 5s 3ms/step - loss: 0.0981 - accuracy: 0.9719 - val_loss: 0.1057 - val_accuracy: 0.9700\n",
      "Epoch 6/20\n",
      "Epoch 6/20\n",
      "1350/1350 [==============================] - 4s 3ms/step - loss: 0.0796 - accuracy: 0.9759\n",
      "Epoch 7/20\n",
      "1350/1350 [==============================] - 4s 3ms/step - loss: 0.0713 - accuracy: 0.9844\n",
      "Epoch 7/20\n",
      "1350/1350 [==============================] - 4s 3ms/step - loss: 0.0720 - accuracy: 0.9782\n",
      "Epoch 8/20\n",
      "1350/1350 [==============================] - 4s 3ms/step - loss: 0.0721 - accuracy: 0.9782\n",
      "Epoch 8/20\n",
      "1350/1350 [==============================] - 4s 3ms/step - loss: 0.0600 - accuracy: 0.9821\n",
      "Epoch 9/20\n",
      "1350/1350 [==============================] - 4s 3ms/step - loss: 0.0362 - accuracy: 0.9858\n",
      "Epoch 9/20\n",
      "1350/1350 [==============================] - 4s 3ms/step - loss: 0.0518 - accuracy: 0.9844\n",
      "Epoch 10/20\n",
      "1350/1350 [==============================] - 4s 3ms/step - loss: 0.0380 - accuracy: 0.9919\n",
      "Epoch 10/20\n",
      "1350/1350 [==============================] - 4s 3ms/step - loss: 0.0501 - accuracy: 0.9853\n",
      "Epoch 11/20\n",
      "1350/1350 [==============================] - 4s 3ms/step - loss: 0.0435 - accuracy: 0.9875\n",
      "Epoch 11/20\n",
      "1350/1350 [==============================] - 4s 3ms/step - loss: 0.0515 - accuracy: 0.9853\n",
      "Epoch 12/20\n",
      "1350/1350 [==============================] - 4s 3ms/step - loss: 0.0500 - accuracy: 0.9904\n",
      "Epoch 12/20\n",
      "1350/1350 [==============================] - 4s 3ms/step - loss: 0.0434 - accuracy: 0.9880\n",
      "Epoch 13/20\n",
      "1350/1350 [==============================] - 4s 3ms/step - loss: 0.0537 - accuracy: 0.9704\n",
      "Epoch 13/20\n",
      "1350/1350 [==============================] - 4s 3ms/step - loss: 0.0430 - accuracy: 0.9878\n",
      "Epoch 14/20\n",
      "1350/1350 [==============================] - 4s 3ms/step - loss: 0.0539 - accuracy: 0.9878\n",
      "Epoch 14/20\n",
      "1350/1350 [==============================] - 4s 3ms/step - loss: 0.0436 - accuracy: 0.9871\n",
      "Epoch 15/20\n",
      "1350/1350 [==============================] - 4s 3ms/step - loss: 0.0325 - accuracy: 0.9892\n",
      "Epoch 15/20\n",
      "1350/1350 [==============================] - 4s 3ms/step - loss: 0.0348 - accuracy: 0.9896\n",
      "Epoch 16/20\n",
      "1350/1350 [==============================] - 4s 3ms/step - loss: 0.0293 - accuracy: 1.0095\n",
      "Epoch 16/20\n",
      "1350/1350 [==============================] - 4s 3ms/step - loss: 0.0364 - accuracy: 0.9895\n",
      "Epoch 17/20\n",
      "1350/1350 [==============================] - 4s 3ms/step - loss: 0.0505 - accuracy: 0.9844\n",
      "Epoch 17/20\n",
      "1350/1350 [==============================] - 4s 3ms/step - loss: 0.0381 - accuracy: 0.9894\n",
      "Epoch 18/20\n",
      "1350/1350 [==============================] - 4s 3ms/step - loss: 0.0383 - accuracy: 0.9867\n",
      "Epoch 18/20\n",
      "1350/1350 [==============================] - 4s 3ms/step - loss: 0.0387 - accuracy: 0.9891\n",
      "Epoch 19/20\n",
      "1350/1350 [==============================] - 4s 3ms/step - loss: 0.0391 - accuracy: 0.9883\n",
      "Epoch 19/20\n",
      "1350/1350 [==============================] - 4s 3ms/step - loss: 0.0338 - accuracy: 0.9898\n",
      "Epoch 20/20\n",
      "1350/1350 [==============================] - 4s 3ms/step - loss: 0.0347 - accuracy: 0.9888\n",
      "Epoch 20/20\n",
      "1350/1350 [==============================] - 4s 3ms/step - loss: 0.0357 - accuracy: 0.9898\n",
      "1350/1350 [==============================] - 4s 3ms/step - loss: 0.0357 - accuracy: 0.9898 - val_loss: 0.1165 - val_accuracy: 0.9750\n",
      "375/375 [==============================] - 0s 1ms/step\n",
      "375/375 [==============================] - 0s 928us/step\n",
      "375/375 [==============================] - 0s 1ms/step\n",
      "375/375 [==============================] - 0s 1ms/step\n",
      "375/375 [==============================] - 0s 1ms/step\n",
      "375/375 [==============================] - 1s 1ms/step\n",
      "375/375 [==============================] - 0s 1ms/step\n",
      "375/375 [==============================] - 1s 1ms/step\n",
      "375/375 [==============================] - 0s 1ms/step\n",
      "375/375 [==============================] - 1s 1ms/step\n",
      "375/375 [==============================] - 1s 1ms/step\n",
      "375/375 [==============================] - 0s 1ms/step\n",
      "375/375 [==============================] - 1s 1ms/step\n",
      "375/375 [==============================] - 0s 1ms/step\n",
      "375/375 [==============================] - 0s 852us/step\n",
      "375/375 [==============================] - 0s 834us/step\n",
      "375/375 [==============================] - 0s 765us/step\n",
      "375/375 [==============================] - 0s 807us/step\n"
     ]
    },
    {
     "name": "stderr",
     "output_type": "stream",
     "text": [
      "/Users/vmberto/Documents/nigep/venv/lib/python3.9/site-packages/sklearn/metrics/_classification.py:1469: UndefinedMetricWarning: Precision and F-score are ill-defined and being set to 0.0 in labels with no predicted samples. Use `zero_division` parameter to control this behavior.\n",
      "  _warn_prf(average, modifier, msg_start, len(result))\n",
      "/Users/vmberto/Documents/nigep/venv/lib/python3.9/site-packages/sklearn/metrics/_classification.py:1469: UndefinedMetricWarning: Precision and F-score are ill-defined and being set to 0.0 in labels with no predicted samples. Use `zero_division` parameter to control this behavior.\n",
      "  _warn_prf(average, modifier, msg_start, len(result))\n",
      "/Users/vmberto/Documents/nigep/venv/lib/python3.9/site-packages/sklearn/metrics/_classification.py:1469: UndefinedMetricWarning: Precision and F-score are ill-defined and being set to 0.0 in labels with no predicted samples. Use `zero_division` parameter to control this behavior.\n",
      "  _warn_prf(average, modifier, msg_start, len(result))\n"
     ]
    },
    {
     "name": "stdout",
     "output_type": "stream",
     "text": [
      "375/375 [==============================] - 0s 772us/step\n",
      " 90/375 [======>.......................] - ETA: 0s"
     ]
    },
    {
     "name": "stderr",
     "output_type": "stream",
     "text": [
      "/Users/vmberto/Documents/nigep/venv/lib/python3.9/site-packages/sklearn/metrics/_classification.py:1469: UndefinedMetricWarning: Precision and F-score are ill-defined and being set to 0.0 in labels with no predicted samples. Use `zero_division` parameter to control this behavior.\n",
      "  _warn_prf(average, modifier, msg_start, len(result))\n",
      "/Users/vmberto/Documents/nigep/venv/lib/python3.9/site-packages/sklearn/metrics/_classification.py:1469: UndefinedMetricWarning: Precision and F-score are ill-defined and being set to 0.0 in labels with no predicted samples. Use `zero_division` parameter to control this behavior.\n",
      "  _warn_prf(average, modifier, msg_start, len(result))\n",
      "/Users/vmberto/Documents/nigep/venv/lib/python3.9/site-packages/sklearn/metrics/_classification.py:1469: UndefinedMetricWarning: Precision and F-score are ill-defined and being set to 0.0 in labels with no predicted samples. Use `zero_division` parameter to control this behavior.\n",
      "  _warn_prf(average, modifier, msg_start, len(result))\n"
     ]
    },
    {
     "name": "stdout",
     "output_type": "stream",
     "text": [
      "375/375 [==============================] - 0s 1ms/step\n",
      "Epoch 1/20\n",
      " 178/1350 [==>...........................] - ETA: 3s - loss: 2.1018 - accuracy: 0.5046Epoch 1/20\n",
      " 232/1350 [====>.........................] - ETA: 3s - loss: 0.9883 - accuracy: 0.6644"
     ]
    }
   ],
   "source": [
    "lr_reduce = ReduceLROnPlateau(monitor='val_loss', factor=0.1, min_delta=0.001, patience=5, verbose=1)\n",
    "erl_stopping = EarlyStopping(patience=4, monitor='val_loss', verbose=1)\n",
    "callbacks = [erl_stopping, lr_reduce]\n",
    "\n",
    "nigep = Nigep(\n",
    "    execution_name='mnist',\n",
    "    x_data=X_train,\n",
    "    y_data=y_train_one_hot,\n",
    "    model=model,\n",
    "    batch_size=128,\n",
    "    input_shape=INPUT_DIMS,\n",
    "    class_mode='categorical',\n",
    "    k_fold_n=5,\n",
    "    target_names=['0', '1', '2', '3', '4', '5', '6', '7', '8', '9'],\n",
    "    epochs=20,\n",
    ")\n",
    "\n",
    "nigep.fit()"
   ],
   "metadata": {
    "collapsed": false,
    "is_executing": true,
    "ExecuteTime": {
     "start_time": "2024-03-05T23:28:22.171071Z"
    }
   },
   "id": "3506819680e494b3"
  },
  {
   "cell_type": "code",
   "execution_count": null,
   "outputs": [],
   "source": [
    "nigep.plot_and_save_generalization_profile()"
   ],
   "metadata": {
    "collapsed": false,
    "is_executing": true
   },
   "id": "84ac0cd8b1f25a34"
  },
  {
   "cell_type": "code",
   "execution_count": null,
   "outputs": [],
   "source": [],
   "metadata": {
    "collapsed": false,
    "is_executing": true
   },
   "id": "548a584acbfb0747"
  }
 ],
 "metadata": {
  "kernelspec": {
   "display_name": "Python 3 (ipykernel)",
   "language": "python",
   "name": "python3"
  },
  "language_info": {
   "codemirror_mode": {
    "name": "ipython",
    "version": 3
   },
   "file_extension": ".py",
   "mimetype": "text/x-python",
   "name": "python",
   "nbconvert_exporter": "python",
   "pygments_lexer": "ipython3",
   "version": "3.9.6"
  }
 },
 "nbformat": 4,
 "nbformat_minor": 5
}
