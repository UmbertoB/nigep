{
 "cells": [
  {
   "cell_type": "markdown",
   "source": [
    "# Nigep example using MNIST dataset"
   ],
   "metadata": {
    "collapsed": false,
    "id": "1dfeba98a0ea18c5"
   },
   "id": "1dfeba98a0ea18c5"
  },
  {
   "cell_type": "code",
   "execution_count": 1,
   "id": "initial_id",
   "metadata": {
    "id": "initial_id",
    "ExecuteTime": {
     "end_time": "2024-03-07T01:26:57.844976Z",
     "start_time": "2024-03-07T01:26:54.557582Z"
    }
   },
   "outputs": [],
   "source": [
    "import os\n",
    "import sys\n",
    "module_path = os.path.abspath(os.path.join('../src/nigep/*'))\n",
    "if module_path not in sys.path:\n",
    "    sys.path.append(module_path)\n",
    "    \n",
    "from src.nigep import NigepOOD\n",
    "from keras.datasets import cifar10, cifar100\n",
    "import keras.applications as applications\n",
    "from keras.models import Sequential\n",
    "import keras.layers as layers\n",
    "from keras.optimizers import SGD\n",
    "from keras.utils import to_categorical\n",
    "from keras.callbacks import ReduceLROnPlateau, EarlyStopping\n"
   ]
  },
  {
   "cell_type": "markdown",
   "source": [
    "### Load and preprocess MNIST dataset from Keras package"
   ],
   "metadata": {
    "collapsed": false,
    "id": "72a975e881a56640"
   },
   "id": "72a975e881a56640"
  },
  {
   "cell_type": "code",
   "execution_count": 2,
   "outputs": [],
   "source": [
    "# Train Data\n",
    "(x_train, y_train), (_, _) = cifar10.load_data()\n",
    "\n",
    "x_train = x_train.astype('float32')\n",
    "x_train = x_train / 255\n",
    "y_train = to_categorical(y_train, 10)\n",
    "\n",
    "# OOD\n",
    "(_, _), (x_test_ood, y_test_ood) = cifar100.load_data()\n",
    "\n",
    "x_test_ood = x_test_ood.astype('float32')\n",
    "\n",
    "x_test_ood = x_test_ood / 255\n",
    "\n",
    "y_test = to_categorical(y_test_ood, 100)"
   ],
   "metadata": {
    "colab": {
     "base_uri": "https://localhost:8080/"
    },
    "id": "3882b66ebe391834",
    "outputId": "07bc2167-b777-411e-997f-623315627f2c",
    "ExecuteTime": {
     "end_time": "2024-03-07T01:26:58.921558Z",
     "start_time": "2024-03-07T01:26:57.847014Z"
    }
   },
   "id": "3882b66ebe391834"
  },
  {
   "cell_type": "markdown",
   "source": [
    "### Build and compile the MLP model"
   ],
   "metadata": {
    "collapsed": false,
    "id": "ce9d871e929b894"
   },
   "id": "ce9d871e929b894"
  },
  {
   "cell_type": "code",
   "execution_count": 3,
   "id": "6444ef153d85b76a",
   "metadata": {
    "colab": {
     "base_uri": "https://localhost:8080/"
    },
    "id": "6444ef153d85b76a",
    "outputId": "78739341-af05-4d94-e45d-f5cf4989f87c",
    "ExecuteTime": {
     "end_time": "2024-03-07T01:26:59.256305Z",
     "start_time": "2024-03-07T01:26:58.945047Z"
    }
   },
   "outputs": [
    {
     "name": "stdout",
     "output_type": "stream",
     "text": [
      "Model: \"sequential\"\n",
      "_________________________________________________________________\n",
      " Layer (type)                Output Shape              Param #   \n",
      "=================================================================\n",
      " vgg16 (Functional)          (None, 1, 1, 512)         14714688  \n",
      "                                                                 \n",
      " global_average_pooling2d (  (None, 512)               0         \n",
      " GlobalAveragePooling2D)                                         \n",
      "                                                                 \n",
      " dense (Dense)               (None, 10)                5130      \n",
      "                                                                 \n",
      "=================================================================\n",
      "Total params: 14719818 (56.15 MB)\n",
      "Trainable params: 14719818 (56.15 MB)\n",
      "Non-trainable params: 0 (0.00 Byte)\n",
      "_________________________________________________________________\n"
     ]
    },
    {
     "name": "stderr",
     "output_type": "stream",
     "text": [
      "WARNING:absl:At this time, the v2.11+ optimizer `tf.keras.optimizers.SGD` runs slowly on M1/M2 Macs, please use the legacy Keras optimizer instead, located at `tf.keras.optimizers.legacy.SGD`.\n"
     ]
    }
   ],
   "source": [
    "base_model = applications.VGG16(weights='imagenet', include_top=False, input_shape=(32,32,3))\n",
    "\n",
    "model = Sequential(layers=[\n",
    "    base_model,\n",
    "    layers.GlobalAveragePooling2D(),\n",
    "    layers.Dense(10, activation='softmax')\n",
    "])\n",
    "\n",
    "model.summary()\n",
    "\n",
    "model.compile(optimizer=SGD(learning_rate = 0.001, momentum = 0.9), loss='categorical_crossentropy', metrics = ['accuracy'])"
   ]
  },
  {
   "cell_type": "markdown",
   "source": [
    "### Execute Nigep to obtain the Generalization Profile results"
   ],
   "metadata": {
    "collapsed": false,
    "id": "1e4fc85e28cdfb7b"
   },
   "id": "1e4fc85e28cdfb7b"
  },
  {
   "cell_type": "code",
   "execution_count": null,
   "outputs": [
    {
     "name": "stdout",
     "output_type": "stream",
     "text": [
      "Training with Noise: 0\n",
      "Training with Noise: 0.1\n"
     ]
    }
   ],
   "source": [
    "lr_reduce = ReduceLROnPlateau(monitor='val_loss', factor=0.1, min_delta=0.001, patience=5, verbose=1)\n",
    "erl_stopping = EarlyStopping(patience=4, monitor='val_loss', verbose=1)\n",
    "callbacks = [lr_reduce, erl_stopping]\n",
    "\n",
    "\n",
    "nigep = NigepOOD(\n",
    "    execution_name='cifar10',\n",
    "    x_data=x_train,\n",
    "    y_data=y_train,\n",
    "    ood_x_data=x_test_ood,\n",
    "    ood_y_data=y_test_ood,\n",
    "    model=model,\n",
    "    batch_size=64,\n",
    "    input_shape=(32,32),\n",
    "    class_mode='categorical',\n",
    "    target_names=['airplane', 'automobile', 'bird', 'cat', 'deer', 'dog', 'frog', 'horse', 'ship', 'truck'],\n",
    "    epochs=20,\n",
    "    callbacks=callbacks\n",
    ")\n",
    "\n",
    "nigep.execute()"
   ],
   "metadata": {
    "colab": {
     "base_uri": "https://localhost:8080/",
     "height": 1000
    },
    "id": "3506819680e494b3",
    "outputId": "6d30f45f-8676-4562-f546-73e08189263e",
    "is_executing": true,
    "ExecuteTime": {
     "start_time": "2024-03-07T01:27:06.818866Z"
    }
   },
   "id": "3506819680e494b3"
  },
  {
   "cell_type": "code",
   "execution_count": null,
   "outputs": [],
   "source": [
    "nigep.plot_and_save_generalization_profile()"
   ],
   "metadata": {
    "id": "84ac0cd8b1f25a34",
    "ExecuteTime": {
     "start_time": "2024-03-07T01:26:59.570213Z"
    }
   },
   "id": "84ac0cd8b1f25a34"
  }
 ],
 "metadata": {
  "kernelspec": {
   "name": "python3",
   "language": "python",
   "display_name": "Python 3 (ipykernel)"
  },
  "language_info": {
   "codemirror_mode": {
    "name": "ipython",
    "version": 3
   },
   "file_extension": ".py",
   "mimetype": "text/x-python",
   "name": "python",
   "nbconvert_exporter": "python",
   "pygments_lexer": "ipython3",
   "version": "3.9.6"
  },
  "colab": {
   "provenance": [],
   "machine_shape": "hm",
   "gpuType": "V100"
  },
  "accelerator": "GPU"
 },
 "nbformat": 4,
 "nbformat_minor": 5
}
